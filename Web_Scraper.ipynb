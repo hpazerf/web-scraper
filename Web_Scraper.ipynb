{
  "nbformat": 4,
  "nbformat_minor": 0,
  "metadata": {
    "colab": {
      "name": "Web Scraper",
      "provenance": [],
      "collapsed_sections": [
        "JzB2LoNwzJTd",
        "rsdjbRLacER-",
        "dgsYeq7hxUET",
        "QFino6bMmpXH"
      ],
      "toc_visible": true,
      "include_colab_link": true
    },
    "kernelspec": {
      "name": "python3",
      "display_name": "Python 3"
    }
  },
  "cells": [
    {
      "cell_type": "markdown",
      "metadata": {
        "id": "view-in-github",
        "colab_type": "text"
      },
      "source": [
        "<a href=\"https://colab.research.google.com/github/hpazerf/web-scraper/blob/main/Web_Scraper.ipynb\" target=\"_parent\"><img src=\"https://colab.research.google.com/assets/colab-badge.svg\" alt=\"Open In Colab\"/></a>"
      ]
    },
    {
      "cell_type": "markdown",
      "metadata": {
        "id": "JzB2LoNwzJTd"
      },
      "source": [
        "## Setup "
      ]
    },
    {
      "cell_type": "code",
      "metadata": {
        "id": "bRcnVd71ZDdb",
        "outputId": "403ae470-2af8-4b97-bb7d-a74904d31891",
        "colab": {
          "base_uri": "https://localhost:8080/"
        }
      },
      "source": [
        " # Use this code if using Colab to run Selenium\n",
        "\n",
        "# Make sure to go to Runtime -> Change runtime type and select Python 3 as runtime type and GPU as hardware accelerator\n",
        "\n",
        "# !kill -9 -1 # Use this line to delete this VM and start a new one. \n",
        "# The above line deletes all files and folders from the current VM and allocates a new one.\n",
        "\n",
        "!pip install selenium\n",
        "!pip install nltk\n",
        "!apt-get -q update # to update ubuntu to correctly run apt install\n",
        "!apt install -yq chromium-chromedriver\n",
        "!cp /usr/lib/chromium-browser/chromedriver /usr/bin\n",
        "\n",
        "import sys\n",
        "sys.path.insert(0,'/usr/lib/chromium-browser/chromedriver')\n",
        "from selenium import webdriver\n",
        "chrome_options = webdriver.ChromeOptions()\n",
        "chrome_options.add_argument('--headless')\n",
        "chrome_options.add_argument('--no-sandbox')\n",
        "chrome_options.add_argument('--disable-dev-shm-usage')"
      ],
      "execution_count": 1,
      "outputs": [
        {
          "output_type": "stream",
          "text": [
            "Collecting selenium\n",
            "\u001b[?25l  Downloading https://files.pythonhosted.org/packages/80/d6/4294f0b4bce4de0abf13e17190289f9d0613b0a44e5dd6a7f5ca98459853/selenium-3.141.0-py2.py3-none-any.whl (904kB)\n",
            "\r\u001b[K     |▍                               | 10kB 17.5MB/s eta 0:00:01\r\u001b[K     |▊                               | 20kB 3.0MB/s eta 0:00:01\r\u001b[K     |█                               | 30kB 3.8MB/s eta 0:00:01\r\u001b[K     |█▌                              | 40kB 4.2MB/s eta 0:00:01\r\u001b[K     |█▉                              | 51kB 3.4MB/s eta 0:00:01\r\u001b[K     |██▏                             | 61kB 3.7MB/s eta 0:00:01\r\u001b[K     |██▌                             | 71kB 3.9MB/s eta 0:00:01\r\u001b[K     |███                             | 81kB 4.4MB/s eta 0:00:01\r\u001b[K     |███▎                            | 92kB 4.6MB/s eta 0:00:01\r\u001b[K     |███▋                            | 102kB 4.5MB/s eta 0:00:01\r\u001b[K     |████                            | 112kB 4.5MB/s eta 0:00:01\r\u001b[K     |████▍                           | 122kB 4.5MB/s eta 0:00:01\r\u001b[K     |████▊                           | 133kB 4.5MB/s eta 0:00:01\r\u001b[K     |█████                           | 143kB 4.5MB/s eta 0:00:01\r\u001b[K     |█████▍                          | 153kB 4.5MB/s eta 0:00:01\r\u001b[K     |█████▉                          | 163kB 4.5MB/s eta 0:00:01\r\u001b[K     |██████▏                         | 174kB 4.5MB/s eta 0:00:01\r\u001b[K     |██████▌                         | 184kB 4.5MB/s eta 0:00:01\r\u001b[K     |██████▉                         | 194kB 4.5MB/s eta 0:00:01\r\u001b[K     |███████▎                        | 204kB 4.5MB/s eta 0:00:01\r\u001b[K     |███████▋                        | 215kB 4.5MB/s eta 0:00:01\r\u001b[K     |████████                        | 225kB 4.5MB/s eta 0:00:01\r\u001b[K     |████████▎                       | 235kB 4.5MB/s eta 0:00:01\r\u001b[K     |████████▊                       | 245kB 4.5MB/s eta 0:00:01\r\u001b[K     |█████████                       | 256kB 4.5MB/s eta 0:00:01\r\u001b[K     |█████████▍                      | 266kB 4.5MB/s eta 0:00:01\r\u001b[K     |█████████▉                      | 276kB 4.5MB/s eta 0:00:01\r\u001b[K     |██████████▏                     | 286kB 4.5MB/s eta 0:00:01\r\u001b[K     |██████████▌                     | 296kB 4.5MB/s eta 0:00:01\r\u001b[K     |██████████▉                     | 307kB 4.5MB/s eta 0:00:01\r\u001b[K     |███████████▎                    | 317kB 4.5MB/s eta 0:00:01\r\u001b[K     |███████████▋                    | 327kB 4.5MB/s eta 0:00:01\r\u001b[K     |████████████                    | 337kB 4.5MB/s eta 0:00:01\r\u001b[K     |████████████▎                   | 348kB 4.5MB/s eta 0:00:01\r\u001b[K     |████████████▊                   | 358kB 4.5MB/s eta 0:00:01\r\u001b[K     |█████████████                   | 368kB 4.5MB/s eta 0:00:01\r\u001b[K     |█████████████▍                  | 378kB 4.5MB/s eta 0:00:01\r\u001b[K     |█████████████▊                  | 389kB 4.5MB/s eta 0:00:01\r\u001b[K     |██████████████▏                 | 399kB 4.5MB/s eta 0:00:01\r\u001b[K     |██████████████▌                 | 409kB 4.5MB/s eta 0:00:01\r\u001b[K     |██████████████▉                 | 419kB 4.5MB/s eta 0:00:01\r\u001b[K     |███████████████▏                | 430kB 4.5MB/s eta 0:00:01\r\u001b[K     |███████████████▋                | 440kB 4.5MB/s eta 0:00:01\r\u001b[K     |████████████████                | 450kB 4.5MB/s eta 0:00:01\r\u001b[K     |████████████████▎               | 460kB 4.5MB/s eta 0:00:01\r\u001b[K     |████████████████▋               | 471kB 4.5MB/s eta 0:00:01\r\u001b[K     |█████████████████               | 481kB 4.5MB/s eta 0:00:01\r\u001b[K     |█████████████████▍              | 491kB 4.5MB/s eta 0:00:01\r\u001b[K     |█████████████████▊              | 501kB 4.5MB/s eta 0:00:01\r\u001b[K     |██████████████████▏             | 512kB 4.5MB/s eta 0:00:01\r\u001b[K     |██████████████████▌             | 522kB 4.5MB/s eta 0:00:01\r\u001b[K     |██████████████████▉             | 532kB 4.5MB/s eta 0:00:01\r\u001b[K     |███████████████████▏            | 542kB 4.5MB/s eta 0:00:01\r\u001b[K     |███████████████████▋            | 552kB 4.5MB/s eta 0:00:01\r\u001b[K     |████████████████████            | 563kB 4.5MB/s eta 0:00:01\r\u001b[K     |████████████████████▎           | 573kB 4.5MB/s eta 0:00:01\r\u001b[K     |████████████████████▋           | 583kB 4.5MB/s eta 0:00:01\r\u001b[K     |█████████████████████           | 593kB 4.5MB/s eta 0:00:01\r\u001b[K     |█████████████████████▍          | 604kB 4.5MB/s eta 0:00:01\r\u001b[K     |█████████████████████▊          | 614kB 4.5MB/s eta 0:00:01\r\u001b[K     |██████████████████████          | 624kB 4.5MB/s eta 0:00:01\r\u001b[K     |██████████████████████▌         | 634kB 4.5MB/s eta 0:00:01\r\u001b[K     |██████████████████████▉         | 645kB 4.5MB/s eta 0:00:01\r\u001b[K     |███████████████████████▏        | 655kB 4.5MB/s eta 0:00:01\r\u001b[K     |███████████████████████▌        | 665kB 4.5MB/s eta 0:00:01\r\u001b[K     |████████████████████████        | 675kB 4.5MB/s eta 0:00:01\r\u001b[K     |████████████████████████▎       | 686kB 4.5MB/s eta 0:00:01\r\u001b[K     |████████████████████████▋       | 696kB 4.5MB/s eta 0:00:01\r\u001b[K     |█████████████████████████       | 706kB 4.5MB/s eta 0:00:01\r\u001b[K     |█████████████████████████▍      | 716kB 4.5MB/s eta 0:00:01\r\u001b[K     |█████████████████████████▊      | 727kB 4.5MB/s eta 0:00:01\r\u001b[K     |██████████████████████████      | 737kB 4.5MB/s eta 0:00:01\r\u001b[K     |██████████████████████████▍     | 747kB 4.5MB/s eta 0:00:01\r\u001b[K     |██████████████████████████▉     | 757kB 4.5MB/s eta 0:00:01\r\u001b[K     |███████████████████████████▏    | 768kB 4.5MB/s eta 0:00:01\r\u001b[K     |███████████████████████████▌    | 778kB 4.5MB/s eta 0:00:01\r\u001b[K     |████████████████████████████    | 788kB 4.5MB/s eta 0:00:01\r\u001b[K     |████████████████████████████▎   | 798kB 4.5MB/s eta 0:00:01\r\u001b[K     |████████████████████████████▋   | 808kB 4.5MB/s eta 0:00:01\r\u001b[K     |█████████████████████████████   | 819kB 4.5MB/s eta 0:00:01\r\u001b[K     |█████████████████████████████▍  | 829kB 4.5MB/s eta 0:00:01\r\u001b[K     |█████████████████████████████▊  | 839kB 4.5MB/s eta 0:00:01\r\u001b[K     |██████████████████████████████  | 849kB 4.5MB/s eta 0:00:01\r\u001b[K     |██████████████████████████████▍ | 860kB 4.5MB/s eta 0:00:01\r\u001b[K     |██████████████████████████████▉ | 870kB 4.5MB/s eta 0:00:01\r\u001b[K     |███████████████████████████████▏| 880kB 4.5MB/s eta 0:00:01\r\u001b[K     |███████████████████████████████▌| 890kB 4.5MB/s eta 0:00:01\r\u001b[K     |███████████████████████████████▉| 901kB 4.5MB/s eta 0:00:01\r\u001b[K     |████████████████████████████████| 911kB 4.5MB/s \n",
            "\u001b[?25hRequirement already satisfied: urllib3 in /usr/local/lib/python3.6/dist-packages (from selenium) (1.24.3)\n",
            "Installing collected packages: selenium\n",
            "Successfully installed selenium-3.141.0\n",
            "Requirement already satisfied: nltk in /usr/local/lib/python3.6/dist-packages (3.2.5)\n",
            "Requirement already satisfied: six in /usr/local/lib/python3.6/dist-packages (from nltk) (1.15.0)\n",
            "Ign:1 https://developer.download.nvidia.com/compute/cuda/repos/ubuntu1804/x86_64  InRelease\n",
            "Get:2 https://cloud.r-project.org/bin/linux/ubuntu bionic-cran40/ InRelease [3,626 B]\n",
            "Ign:3 https://developer.download.nvidia.com/compute/machine-learning/repos/ubuntu1804/x86_64  InRelease\n",
            "Get:4 https://developer.download.nvidia.com/compute/cuda/repos/ubuntu1804/x86_64  Release [697 B]\n",
            "Hit:5 https://developer.download.nvidia.com/compute/machine-learning/repos/ubuntu1804/x86_64  Release\n",
            "Get:6 https://developer.download.nvidia.com/compute/cuda/repos/ubuntu1804/x86_64  Release.gpg [836 B]\n",
            "Get:7 http://security.ubuntu.com/ubuntu bionic-security InRelease [88.7 kB]\n",
            "Hit:8 http://archive.ubuntu.com/ubuntu bionic InRelease\n",
            "Get:9 http://ppa.launchpad.net/c2d4u.team/c2d4u4.0+/ubuntu bionic InRelease [15.9 kB]\n",
            "Get:10 https://cloud.r-project.org/bin/linux/ubuntu bionic-cran40/ Packages [40.1 kB]\n",
            "Get:11 http://archive.ubuntu.com/ubuntu bionic-updates InRelease [88.7 kB]\n",
            "Ign:13 https://developer.download.nvidia.com/compute/cuda/repos/ubuntu1804/x86_64  Packages\n",
            "Hit:14 http://ppa.launchpad.net/graphics-drivers/ppa/ubuntu bionic InRelease\n",
            "Get:13 https://developer.download.nvidia.com/compute/cuda/repos/ubuntu1804/x86_64  Packages [405 kB]\n",
            "Get:15 http://archive.ubuntu.com/ubuntu bionic-backports InRelease [74.6 kB]\n",
            "Get:16 http://ppa.launchpad.net/c2d4u.team/c2d4u4.0+/ubuntu bionic/main Sources [1,687 kB]\n",
            "Get:17 http://security.ubuntu.com/ubuntu bionic-security/main amd64 Packages [1,748 kB]\n",
            "Get:18 http://archive.ubuntu.com/ubuntu bionic-updates/main amd64 Packages [2,165 kB]\n",
            "Get:19 http://security.ubuntu.com/ubuntu bionic-security/universe amd64 Packages [1,353 kB]\n",
            "Get:20 http://archive.ubuntu.com/ubuntu bionic-updates/universe amd64 Packages [2,118 kB]\n",
            "Get:21 http://ppa.launchpad.net/c2d4u.team/c2d4u4.0+/ubuntu bionic/main amd64 Packages [864 kB]\n",
            "Fetched 10.7 MB in 4s (2,900 kB/s)\n",
            "Reading package lists...\n",
            "Reading package lists...\n",
            "Building dependency tree...\n",
            "Reading state information...\n",
            "The following additional packages will be installed:\n",
            "  chromium-browser chromium-browser-l10n chromium-codecs-ffmpeg-extra\n",
            "Suggested packages:\n",
            "  webaccounts-chromium-extension unity-chromium-extension adobe-flashplugin\n",
            "The following NEW packages will be installed:\n",
            "  chromium-browser chromium-browser-l10n chromium-chromedriver\n",
            "  chromium-codecs-ffmpeg-extra\n",
            "0 upgraded, 4 newly installed, 0 to remove and 24 not upgraded.\n",
            "Need to get 80.1 MB of archives.\n",
            "After this operation, 271 MB of additional disk space will be used.\n",
            "Get:1 http://archive.ubuntu.com/ubuntu bionic-updates/universe amd64 chromium-codecs-ffmpeg-extra amd64 86.0.4240.75-0ubuntu0.18.04.1 [1,127 kB]\n",
            "Get:2 http://archive.ubuntu.com/ubuntu bionic-updates/universe amd64 chromium-browser amd64 86.0.4240.75-0ubuntu0.18.04.1 [70.9 MB]\n",
            "Get:3 http://archive.ubuntu.com/ubuntu bionic-updates/universe amd64 chromium-browser-l10n all 86.0.4240.75-0ubuntu0.18.04.1 [3,579 kB]\n",
            "Get:4 http://archive.ubuntu.com/ubuntu bionic-updates/universe amd64 chromium-chromedriver amd64 86.0.4240.75-0ubuntu0.18.04.1 [4,486 kB]\n",
            "Fetched 80.1 MB in 5s (15.3 MB/s)\n",
            "Selecting previously unselected package chromium-codecs-ffmpeg-extra.\n",
            "(Reading database ... 144628 files and directories currently installed.)\n",
            "Preparing to unpack .../chromium-codecs-ffmpeg-extra_86.0.4240.75-0ubuntu0.18.04.1_amd64.deb ...\n",
            "Unpacking chromium-codecs-ffmpeg-extra (86.0.4240.75-0ubuntu0.18.04.1) ...\n",
            "Selecting previously unselected package chromium-browser.\n",
            "Preparing to unpack .../chromium-browser_86.0.4240.75-0ubuntu0.18.04.1_amd64.deb ...\n",
            "Unpacking chromium-browser (86.0.4240.75-0ubuntu0.18.04.1) ...\n",
            "Selecting previously unselected package chromium-browser-l10n.\n",
            "Preparing to unpack .../chromium-browser-l10n_86.0.4240.75-0ubuntu0.18.04.1_all.deb ...\n",
            "Unpacking chromium-browser-l10n (86.0.4240.75-0ubuntu0.18.04.1) ...\n",
            "Selecting previously unselected package chromium-chromedriver.\n",
            "Preparing to unpack .../chromium-chromedriver_86.0.4240.75-0ubuntu0.18.04.1_amd64.deb ...\n",
            "Unpacking chromium-chromedriver (86.0.4240.75-0ubuntu0.18.04.1) ...\n",
            "Setting up chromium-codecs-ffmpeg-extra (86.0.4240.75-0ubuntu0.18.04.1) ...\n",
            "Setting up chromium-browser (86.0.4240.75-0ubuntu0.18.04.1) ...\n",
            "update-alternatives: using /usr/bin/chromium-browser to provide /usr/bin/x-www-browser (x-www-browser) in auto mode\n",
            "update-alternatives: using /usr/bin/chromium-browser to provide /usr/bin/gnome-www-browser (gnome-www-browser) in auto mode\n",
            "Setting up chromium-chromedriver (86.0.4240.75-0ubuntu0.18.04.1) ...\n",
            "Setting up chromium-browser-l10n (86.0.4240.75-0ubuntu0.18.04.1) ...\n",
            "Processing triggers for hicolor-icon-theme (0.17-2) ...\n",
            "Processing triggers for mime-support (3.60ubuntu1) ...\n",
            "Processing triggers for man-db (2.8.3-2ubuntu0.1) ...\n",
            "cp: '/usr/lib/chromium-browser/chromedriver' and '/usr/bin/chromedriver' are the same file\n"
          ],
          "name": "stdout"
        }
      ]
    },
    {
      "cell_type": "markdown",
      "metadata": {
        "id": "9w5_z0SeZtEA"
      },
      "source": [
        "Test to see if selenium is working properly"
      ]
    },
    {
      "cell_type": "code",
      "metadata": {
        "id": "adeYlARhZYwn"
      },
      "source": [
        "\n",
        "#wd = webdriver.Chrome('chromedriver',options=chrome_options)\n",
        "#wd.get(\"https://www.website.com\")\n",
        "#print(wd.page_source)  # results"
      ],
      "execution_count": 2,
      "outputs": []
    },
    {
      "cell_type": "code",
      "metadata": {
        "id": "TAEZJ3Ufn2j7"
      },
      "source": [
        "import pandas as pd\n",
        "from datetime import datetime\n",
        "import numpy as np\n",
        "import io\n",
        "import re\n",
        "import string\n",
        "import nltk\n",
        "from google.colab import files\n",
        "import matplotlib.pyplot as plt\n",
        "from sklearn.manifold import MDS\n",
        "from sklearn.preprocessing import MinMaxScaler"
      ],
      "execution_count": 3,
      "outputs": []
    },
    {
      "cell_type": "markdown",
      "metadata": {
        "id": "s7q6xpjhb44X"
      },
      "source": [
        "##SCRAPING DATA SECTION\n"
      ]
    },
    {
      "cell_type": "markdown",
      "metadata": {
        "id": "EX1AsM8qQ9Zy"
      },
      "source": [
        "We scraped the data from [https://forums.edmunds.com/discussion/2864/general/x/entry-level-luxury-performance-sedans](https://forums.edmunds.com/discussion/2864/general/x/entry-level-luxury-performance-sedans).\n",
        "\n",
        "We grabbed the oldest comments, about 5,500, from 110 pages."
      ]
    },
    {
      "cell_type": "code",
      "metadata": {
        "id": "6aWV8HP6mFgb"
      },
      "source": [
        "# Creating a dataframe to place information into\n",
        "comments = pd.DataFrame(columns = ['Date','user_id','comments']) \n",
        "url = []\n",
        "# 455 pages possible\n",
        "# 50 comments per page\n",
        "# 110 pages gives 5500 comments\n",
        "for page in range(1,111):\n",
        "  string = 'https://forums.edmunds.com/discussion/2864/general/x/entry-level-luxury-performance-sedans/p'+str(page)\n",
        "  url.append(string)"
      ],
      "execution_count": 4,
      "outputs": []
    },
    {
      "cell_type": "code",
      "metadata": {
        "id": "0Yq2CbUVkOiC"
      },
      "source": [
        "# A loop to extract all the comments in each link\n",
        "for page in range(0,len(url)):\n",
        "  driver = webdriver.Chrome('chromedriver',options=chrome_options)\n",
        "  driver.get(url[page])\n",
        "  ids = driver.find_elements_by_xpath(\"//*[contains(@id,'Comment_')]\")\n",
        "  comment_ids = []\n",
        "  for i in ids:\n",
        "      comment_ids.append(i.get_attribute('id'))\n",
        "  for x in comment_ids:\n",
        "      #Extract dates from for each user on a page\n",
        "      user_date = driver.find_elements_by_xpath('//*[@id=\"' + x +'\"]/div/div[2]/div[2]/span[1]/a/time')[0]\n",
        "      date = user_date.get_attribute('title')\n",
        "\n",
        "      #Extract user ids from each user on a page\n",
        "      userid_element = driver.find_elements_by_xpath('//*[@id=\"' + x +'\"]/div/div[2]/div[1]/span[1]/a[2]')[0]\n",
        "      userid = userid_element.text\n",
        "\n",
        "      #Extract Message for each user on a page\n",
        "      user_message = driver.find_elements_by_xpath('//*[@id=\"' + x +'\"]/div/div[3]/div/div[1]')[0]\n",
        "      comment = user_message.text\n",
        "                                    \n",
        "      #Adding date, userid and comment for each user in a dataframe    \n",
        "      comments.loc[len(comments)] = [date,userid,comment]"
      ],
      "execution_count": null,
      "outputs": []
    },
    {
      "cell_type": "code",
      "metadata": {
        "id": "UDEOUhNNqzNp"
      },
      "source": [
        "# Turning the scraped data into a csv file for ease of future use\n",
        "comments.to_csv(\"comments.csv\")"
      ],
      "execution_count": null,
      "outputs": []
    },
    {
      "cell_type": "markdown",
      "metadata": {
        "id": "rsdjbRLacER-"
      },
      "source": [
        "## UPLOADING AND SETTING UP DATA"
      ]
    },
    {
      "cell_type": "code",
      "metadata": {
        "id": "sMNTgdIUnmIN"
      },
      "source": [
        "comments = pd.read_csv('comments.csv',index_col=0)"
      ],
      "execution_count": 9,
      "outputs": []
    },
    {
      "cell_type": "code",
      "metadata": {
        "id": "J9KyVOCooLfg"
      },
      "source": [
        "##Change file name to \"change_car models and brands.csv\"\n",
        "df_brands = pd.read_csv('changed_car models and brands.csv',header=None)"
      ],
      "execution_count": 10,
      "outputs": []
    },
    {
      "cell_type": "code",
      "metadata": {
        "id": "diUBGEr0AH6g",
        "outputId": "0cf455cb-df45-4356-e185-8e66a037434c",
        "colab": {
          "base_uri": "https://localhost:8080/"
        }
      },
      "source": [
        "# Places all the brand names into a list to check word frequency through comments\n",
        "brands=df_brands[1].unique()\n",
        "brands"
      ],
      "execution_count": 11,
      "outputs": [
        {
          "output_type": "execute_result",
          "data": {
            "text/plain": [
              "array(['acura', 'audi', 'bmw', 'buick', 'cadillac', 'chevrolet',\n",
              "       'chrysler', 'dodge', 'ford', 'honda', 'hyundai kia', 'hyundai',\n",
              "       'infiniti', 'kia', 'lincoln', 'mazda', 'mercedes', 'mercedes benz',\n",
              "       'mercedes-benz', 'mercury', 'mitsubishi', 'nissan', 'pontiac',\n",
              "       'saturn', 'subaru', 'suzuki', 'toyata', 'toyota', 'volkswagen',\n",
              "       'volvo', 'lexus'], dtype=object)"
            ]
          },
          "metadata": {
            "tags": []
          },
          "execution_count": 11
        }
      ]
    },
    {
      "cell_type": "code",
      "metadata": {
        "id": "qHost0AdAVtb"
      },
      "source": [
        "# Looking through all the comments in the comment dataframe\n",
        "# and counting all the times a type of brand was mentioned by a user\n",
        "# Checking to make sure comments actually exist\n",
        "# Comment 223 is empty\n",
        "count_dict ={}\n",
        "for brand in brands:\n",
        "  for i in range((comments.shape[0])):\n",
        "    if type(comments.loc[i,'comments']) == str:\n",
        "      user_comment=comments.loc[i,'comments'].lower()\n",
        "      if (brand.lower() in user_comment):\n",
        "        if brand not in count_dict:\n",
        "          count_dict[brand] = 1\n",
        "        else:\n",
        "            count_dict[brand] += 1"
      ],
      "execution_count": 12,
      "outputs": []
    },
    {
      "cell_type": "code",
      "metadata": {
        "id": "JlskCnryBSm2",
        "outputId": "7351f472-a9e5-4de3-fce2-c9da3e2316e7",
        "colab": {
          "base_uri": "https://localhost:8080/",
          "height": 0
        }
      },
      "source": [
        "# Making the dictionary into a dataframe adn sorting to get the highest 10 brands mentioned\n",
        "count_df = pd.DataFrame.from_dict(count_dict, orient='index', columns=['Frequency'])\n",
        "#This is before the models have been replaced with the brand\n",
        "count_df.sort_values(by=['Frequency'], ascending=False).head(10)"
      ],
      "execution_count": 13,
      "outputs": [
        {
          "output_type": "execute_result",
          "data": {
            "text/html": [
              "<div>\n",
              "<style scoped>\n",
              "    .dataframe tbody tr th:only-of-type {\n",
              "        vertical-align: middle;\n",
              "    }\n",
              "\n",
              "    .dataframe tbody tr th {\n",
              "        vertical-align: top;\n",
              "    }\n",
              "\n",
              "    .dataframe thead th {\n",
              "        text-align: right;\n",
              "    }\n",
              "</style>\n",
              "<table border=\"1\" class=\"dataframe\">\n",
              "  <thead>\n",
              "    <tr style=\"text-align: right;\">\n",
              "      <th></th>\n",
              "      <th>Frequency</th>\n",
              "    </tr>\n",
              "  </thead>\n",
              "  <tbody>\n",
              "    <tr>\n",
              "      <th>bmw</th>\n",
              "      <td>1399</td>\n",
              "    </tr>\n",
              "    <tr>\n",
              "      <th>acura</th>\n",
              "      <td>482</td>\n",
              "    </tr>\n",
              "    <tr>\n",
              "      <th>lexus</th>\n",
              "      <td>452</td>\n",
              "    </tr>\n",
              "    <tr>\n",
              "      <th>infiniti</th>\n",
              "      <td>411</td>\n",
              "    </tr>\n",
              "    <tr>\n",
              "      <th>audi</th>\n",
              "      <td>380</td>\n",
              "    </tr>\n",
              "    <tr>\n",
              "      <th>honda</th>\n",
              "      <td>218</td>\n",
              "    </tr>\n",
              "    <tr>\n",
              "      <th>nissan</th>\n",
              "      <td>215</td>\n",
              "    </tr>\n",
              "    <tr>\n",
              "      <th>ford</th>\n",
              "      <td>187</td>\n",
              "    </tr>\n",
              "    <tr>\n",
              "      <th>mercedes</th>\n",
              "      <td>176</td>\n",
              "    </tr>\n",
              "    <tr>\n",
              "      <th>toyota</th>\n",
              "      <td>148</td>\n",
              "    </tr>\n",
              "  </tbody>\n",
              "</table>\n",
              "</div>"
            ],
            "text/plain": [
              "          Frequency\n",
              "bmw            1399\n",
              "acura           482\n",
              "lexus           452\n",
              "infiniti        411\n",
              "audi            380\n",
              "honda           218\n",
              "nissan          215\n",
              "ford            187\n",
              "mercedes        176\n",
              "toyota          148"
            ]
          },
          "metadata": {
            "tags": []
          },
          "execution_count": 13
        }
      ]
    },
    {
      "cell_type": "code",
      "metadata": {
        "id": "7B0mopU5Ah3m"
      },
      "source": [
        "# Converting the dataframe into a csv file for future use\n",
        "#count_df.to_csv(\"brand_count.csv\")"
      ],
      "execution_count": 14,
      "outputs": []
    },
    {
      "cell_type": "markdown",
      "metadata": {
        "id": "PElzM9S1cMsE"
      },
      "source": [
        "## TASK A: Find the Lift Ratios between each brand"
      ]
    },
    {
      "cell_type": "code",
      "metadata": {
        "id": "greIRgVsPTmM"
      },
      "source": [
        "# Replacing all the model names into brand names\n",
        "replaced_df = comments.copy()\n",
        "for i in range((df_brands.shape[0])):\n",
        "  replacee=df_brands.loc[i,0].lower()\n",
        "  #replacee = '\\b'+replacee+'\\b'\n",
        "  replacedby=df_brands.loc[i,1].lower()\n",
        "  #replacedby='\\b'+replacedby+'\\b'\n",
        "  replaced_df[\"comments\"]= replaced_df[\"comments\"].str.replace(rf\"\\b{replacee}\\b\", replacedby, case = False)\n"
      ],
      "execution_count": 15,
      "outputs": []
    },
    {
      "cell_type": "code",
      "metadata": {
        "id": "c7rhhbbpA48L"
      },
      "source": [
        "# Looking through all the comments after the model names have been replaced by the brand names\n",
        "replaced_count_dict ={}\n",
        "for brand in brands:\n",
        "  for i in range((replaced_df.shape[0])):\n",
        "    if type(replaced_df.loc[i,'comments']) == str: \n",
        "      user_comment=replaced_df.loc[i,'comments'].lower()\n",
        "      if (brand.lower() in user_comment):\n",
        "        if brand not in replaced_count_dict:\n",
        "          replaced_count_dict[brand] = 1\n",
        "        else:\n",
        "          replaced_count_dict[brand] += 1"
      ],
      "execution_count": 16,
      "outputs": []
    },
    {
      "cell_type": "code",
      "metadata": {
        "id": "Lp1GgciEBAZ5",
        "outputId": "e87d8536-d4b3-40d4-994c-b32d229c77e1",
        "colab": {
          "base_uri": "https://localhost:8080/",
          "height": 376
        }
      },
      "source": [
        "# Making the dictionary into a dataframe\n",
        "replaced_count_df = pd.DataFrame.from_dict(replaced_count_dict, orient='index', columns=['Frequency'])\n",
        "print(\"The top ten brands are: \")\n",
        "replaced_count_df.sort_values(by=['Frequency'], ascending=False).head(10)"
      ],
      "execution_count": 17,
      "outputs": [
        {
          "output_type": "stream",
          "text": [
            "The top ten brands are: \n"
          ],
          "name": "stdout"
        },
        {
          "output_type": "execute_result",
          "data": {
            "text/html": [
              "<div>\n",
              "<style scoped>\n",
              "    .dataframe tbody tr th:only-of-type {\n",
              "        vertical-align: middle;\n",
              "    }\n",
              "\n",
              "    .dataframe tbody tr th {\n",
              "        vertical-align: top;\n",
              "    }\n",
              "\n",
              "    .dataframe thead th {\n",
              "        text-align: right;\n",
              "    }\n",
              "</style>\n",
              "<table border=\"1\" class=\"dataframe\">\n",
              "  <thead>\n",
              "    <tr style=\"text-align: right;\">\n",
              "      <th></th>\n",
              "      <th>Frequency</th>\n",
              "    </tr>\n",
              "  </thead>\n",
              "  <tbody>\n",
              "    <tr>\n",
              "      <th>bmw</th>\n",
              "      <td>1640</td>\n",
              "    </tr>\n",
              "    <tr>\n",
              "      <th>acura</th>\n",
              "      <td>653</td>\n",
              "    </tr>\n",
              "    <tr>\n",
              "      <th>audi</th>\n",
              "      <td>549</td>\n",
              "    </tr>\n",
              "    <tr>\n",
              "      <th>honda</th>\n",
              "      <td>481</td>\n",
              "    </tr>\n",
              "    <tr>\n",
              "      <th>infiniti</th>\n",
              "      <td>477</td>\n",
              "    </tr>\n",
              "    <tr>\n",
              "      <th>lexus</th>\n",
              "      <td>465</td>\n",
              "    </tr>\n",
              "    <tr>\n",
              "      <th>nissan</th>\n",
              "      <td>335</td>\n",
              "    </tr>\n",
              "    <tr>\n",
              "      <th>ford</th>\n",
              "      <td>265</td>\n",
              "    </tr>\n",
              "    <tr>\n",
              "      <th>toyota</th>\n",
              "      <td>256</td>\n",
              "    </tr>\n",
              "    <tr>\n",
              "      <th>mercedes</th>\n",
              "      <td>250</td>\n",
              "    </tr>\n",
              "  </tbody>\n",
              "</table>\n",
              "</div>"
            ],
            "text/plain": [
              "          Frequency\n",
              "bmw            1640\n",
              "acura           653\n",
              "audi            549\n",
              "honda           481\n",
              "infiniti        477\n",
              "lexus           465\n",
              "nissan          335\n",
              "ford            265\n",
              "toyota          256\n",
              "mercedes        250"
            ]
          },
          "metadata": {
            "tags": []
          },
          "execution_count": 17
        }
      ]
    },
    {
      "cell_type": "code",
      "metadata": {
        "id": "o6RIokv_BCJY"
      },
      "source": [
        "replaced_count_df.to_csv(\"replaced_count.csv\")"
      ],
      "execution_count": 18,
      "outputs": []
    },
    {
      "cell_type": "code",
      "metadata": {
        "id": "AqllLDT8BGvU"
      },
      "source": [
        "# Converting the top ten brands to a list for manipulation\n",
        "top_ten_brands=replaced_count_df.sort_values(by=['Frequency'], ascending=False).head(10).index.to_list()"
      ],
      "execution_count": 19,
      "outputs": []
    },
    {
      "cell_type": "code",
      "metadata": {
        "id": "Psnt8ENWBshT"
      },
      "source": [
        "# Creating a list that creates the pairs two brands name to find the frequency when both are mentioned at the same time in a comment\n",
        "# car bmw\n",
        "# car toyota\n",
        "# car acura\n",
        "\n",
        "i= 0\n",
        "lift_dict={}\n",
        "used_list=[]\n",
        "for name1 in top_ten_brands:\n",
        "  for name2 in top_ten_brands:\n",
        "    # you want the lift ratios not to repeat use this if statment and place the code below the if statement\n",
        "    #if (name1 != name2) and (name2 not in used_list):\n",
        "    i+=1\n",
        "    lift_dict[i] = []\n",
        "    lift_dict[i].append(name1)\n",
        "    lift_dict[i].append(name2)\n",
        "  used_list.append(name1)\n",
        "\n",
        "name1=[]\n",
        "name2=[]\n",
        "frequency=[]\n",
        "for pair in lift_dict.values():\n",
        "    name1.append(pair[0])\n",
        "    name2.append(pair[1])\n",
        "    frequency.append(0)\n",
        "\n",
        "for i in range(len(name1)):\n",
        "    for j in range((replaced_df.shape[0])):\n",
        "      if type(replaced_df.loc[j,'comments']) == str: \n",
        "        user_comment=replaced_df.loc[j,'comments'].lower()\n",
        "        if ((name1[i].lower() in user_comment) and (name2[i].lower() in user_comment)):\n",
        "          num=frequency[i]+1\n",
        "          frequency[i]=num"
      ],
      "execution_count": 20,
      "outputs": []
    },
    {
      "cell_type": "code",
      "metadata": {
        "id": "vVTPT7pmCvdJ"
      },
      "source": [
        "# Creating a dataframe of the information\n",
        "pair_freq_df= pd.DataFrame(name1, columns = ['Name1'])\n",
        "pair_freq_df[\"Name2\"]=name2\n",
        "pair_freq_df[\"Frequency\"]=frequency"
      ],
      "execution_count": 21,
      "outputs": []
    },
    {
      "cell_type": "code",
      "metadata": {
        "id": "nSI1r6LxC9mz"
      },
      "source": [
        "# Finding the lift ratio for each pair\n",
        "samples = comments.shape[0]\n",
        "lift_ratio_list = []\n",
        "for i in range((pair_freq_df.shape[0])):\n",
        "  pair_freq = pair_freq_df.loc[i,'Frequency']\n",
        "  brand1 = pair_freq_df.loc[i,'Name1']\n",
        "  brand2 = pair_freq_df.loc[i,'Name2']\n",
        "  #A_freq = top_ten_dict.get(brand1)\n",
        "  A_freq = replaced_count_df.loc[brand1].to_numpy()[0]\n",
        "  #B_freq = top_ten_dict.get(brand2)\n",
        "  B_freq = replaced_count_df.loc[brand2].to_numpy()[0]\n",
        "  lift_ratio = (samples*pair_freq)/(A_freq*B_freq)\n",
        "  lift_ratio_list.append(lift_ratio)"
      ],
      "execution_count": 22,
      "outputs": []
    },
    {
      "cell_type": "code",
      "metadata": {
        "id": "L_J5-B_CDDdq"
      },
      "source": [
        "# Creating a dataframe that shows the two brand names and their lift ratio\n",
        "lift_ratio_df= pd.DataFrame(name1, columns = ['Brand 1'])\n",
        "lift_ratio_df[\"Brand 2\"]=name2\n",
        "lift_ratio_df[\"Lift Ratio\"]=lift_ratio_list"
      ],
      "execution_count": 23,
      "outputs": []
    },
    {
      "cell_type": "code",
      "metadata": {
        "id": "YHB_QIGbWvKf"
      },
      "source": [
        "lift_ratio_df.to_csv(\"lift_ratio.csv\")"
      ],
      "execution_count": 24,
      "outputs": []
    },
    {
      "cell_type": "code",
      "metadata": {
        "id": "bnWGNVtB0GuI",
        "outputId": "8f6f0d6f-7769-45ae-9ffb-160433b35b8d",
        "colab": {
          "base_uri": "https://localhost:8080/",
          "height": 407
        }
      },
      "source": [
        "# all_lift_ratios = pd.read_csv('lift_ratio_with_allvalue.csv', index_col=0)\n",
        "all_lift_ratios = lift_ratio_df\n",
        "sim_matrix = all_lift_ratios.pivot(index='Brand 1', columns='Brand 2', values='Lift Ratio')\n",
        "np.fill_diagonal(sim_matrix.to_numpy(), None)\n",
        "# Dissimilarity matrix\n",
        "dis_matrix = 1/sim_matrix\n",
        "np.fill_diagonal(dis_matrix.to_numpy(), 0)\n",
        "print(\"Lift Calculations for brands: \")\n",
        "sim_matrix"
      ],
      "execution_count": 25,
      "outputs": [
        {
          "output_type": "stream",
          "text": [
            "Lift Calculations for brands: \n"
          ],
          "name": "stdout"
        },
        {
          "output_type": "execute_result",
          "data": {
            "text/html": [
              "<div>\n",
              "<style scoped>\n",
              "    .dataframe tbody tr th:only-of-type {\n",
              "        vertical-align: middle;\n",
              "    }\n",
              "\n",
              "    .dataframe tbody tr th {\n",
              "        vertical-align: top;\n",
              "    }\n",
              "\n",
              "    .dataframe thead th {\n",
              "        text-align: right;\n",
              "    }\n",
              "</style>\n",
              "<table border=\"1\" class=\"dataframe\">\n",
              "  <thead>\n",
              "    <tr style=\"text-align: right;\">\n",
              "      <th>Brand 2</th>\n",
              "      <th>acura</th>\n",
              "      <th>audi</th>\n",
              "      <th>bmw</th>\n",
              "      <th>ford</th>\n",
              "      <th>honda</th>\n",
              "      <th>infiniti</th>\n",
              "      <th>lexus</th>\n",
              "      <th>mercedes</th>\n",
              "      <th>nissan</th>\n",
              "      <th>toyota</th>\n",
              "    </tr>\n",
              "    <tr>\n",
              "      <th>Brand 1</th>\n",
              "      <th></th>\n",
              "      <th></th>\n",
              "      <th></th>\n",
              "      <th></th>\n",
              "      <th></th>\n",
              "      <th></th>\n",
              "      <th></th>\n",
              "      <th></th>\n",
              "      <th></th>\n",
              "      <th></th>\n",
              "    </tr>\n",
              "  </thead>\n",
              "  <tbody>\n",
              "    <tr>\n",
              "      <th>acura</th>\n",
              "      <td>NaN</td>\n",
              "      <td>2.147856</td>\n",
              "      <td>1.494509</td>\n",
              "      <td>1.589182</td>\n",
              "      <td>2.749186</td>\n",
              "      <td>3.019446</td>\n",
              "      <td>2.952461</td>\n",
              "      <td>2.088821</td>\n",
              "      <td>2.287948</td>\n",
              "      <td>1.710854</td>\n",
              "    </tr>\n",
              "    <tr>\n",
              "      <th>audi</th>\n",
              "      <td>2.147856</td>\n",
              "      <td>NaN</td>\n",
              "      <td>1.753188</td>\n",
              "      <td>1.814620</td>\n",
              "      <td>1.312157</td>\n",
              "      <td>2.352285</td>\n",
              "      <td>2.412989</td>\n",
              "      <td>3.285974</td>\n",
              "      <td>1.315825</td>\n",
              "      <td>0.978341</td>\n",
              "    </tr>\n",
              "    <tr>\n",
              "      <th>bmw</th>\n",
              "      <td>1.494509</td>\n",
              "      <td>1.753188</td>\n",
              "      <td>NaN</td>\n",
              "      <td>1.468017</td>\n",
              "      <td>1.185285</td>\n",
              "      <td>1.884236</td>\n",
              "      <td>2.055468</td>\n",
              "      <td>1.837805</td>\n",
              "      <td>1.191300</td>\n",
              "      <td>1.362424</td>\n",
              "    </tr>\n",
              "    <tr>\n",
              "      <th>ford</th>\n",
              "      <td>1.589182</td>\n",
              "      <td>1.814620</td>\n",
              "      <td>1.468017</td>\n",
              "      <td>NaN</td>\n",
              "      <td>2.157455</td>\n",
              "      <td>1.566394</td>\n",
              "      <td>1.919253</td>\n",
              "      <td>2.324528</td>\n",
              "      <td>1.672768</td>\n",
              "      <td>1.864682</td>\n",
              "    </tr>\n",
              "    <tr>\n",
              "      <th>honda</th>\n",
              "      <td>2.749186</td>\n",
              "      <td>1.312157</td>\n",
              "      <td>1.185285</td>\n",
              "      <td>2.157455</td>\n",
              "      <td>NaN</td>\n",
              "      <td>1.486247</td>\n",
              "      <td>1.450830</td>\n",
              "      <td>1.600832</td>\n",
              "      <td>3.754616</td>\n",
              "      <td>3.439287</td>\n",
              "    </tr>\n",
              "    <tr>\n",
              "      <th>infiniti</th>\n",
              "      <td>3.019446</td>\n",
              "      <td>2.352285</td>\n",
              "      <td>1.884236</td>\n",
              "      <td>1.566394</td>\n",
              "      <td>1.486247</td>\n",
              "      <td>NaN</td>\n",
              "      <td>3.620297</td>\n",
              "      <td>2.306080</td>\n",
              "      <td>2.891204</td>\n",
              "      <td>0.990894</td>\n",
              "    </tr>\n",
              "    <tr>\n",
              "      <th>lexus</th>\n",
              "      <td>2.952461</td>\n",
              "      <td>2.412989</td>\n",
              "      <td>2.055468</td>\n",
              "      <td>1.919253</td>\n",
              "      <td>1.450830</td>\n",
              "      <td>3.620297</td>\n",
              "      <td>NaN</td>\n",
              "      <td>3.926882</td>\n",
              "      <td>1.447601</td>\n",
              "      <td>2.171539</td>\n",
              "    </tr>\n",
              "    <tr>\n",
              "      <th>mercedes</th>\n",
              "      <td>2.088821</td>\n",
              "      <td>3.285974</td>\n",
              "      <td>1.837805</td>\n",
              "      <td>2.324528</td>\n",
              "      <td>1.600832</td>\n",
              "      <td>2.306080</td>\n",
              "      <td>3.926882</td>\n",
              "      <td>NaN</td>\n",
              "      <td>1.576119</td>\n",
              "      <td>1.976562</td>\n",
              "    </tr>\n",
              "    <tr>\n",
              "      <th>nissan</th>\n",
              "      <td>2.287948</td>\n",
              "      <td>1.315825</td>\n",
              "      <td>1.191300</td>\n",
              "      <td>1.672768</td>\n",
              "      <td>3.754616</td>\n",
              "      <td>2.891204</td>\n",
              "      <td>1.447601</td>\n",
              "      <td>1.576119</td>\n",
              "      <td>NaN</td>\n",
              "      <td>2.821828</td>\n",
              "    </tr>\n",
              "    <tr>\n",
              "      <th>toyota</th>\n",
              "      <td>1.710854</td>\n",
              "      <td>0.978341</td>\n",
              "      <td>1.362424</td>\n",
              "      <td>1.864682</td>\n",
              "      <td>3.439287</td>\n",
              "      <td>0.990894</td>\n",
              "      <td>2.171539</td>\n",
              "      <td>1.976562</td>\n",
              "      <td>2.821828</td>\n",
              "      <td>NaN</td>\n",
              "    </tr>\n",
              "  </tbody>\n",
              "</table>\n",
              "</div>"
            ],
            "text/plain": [
              "Brand 2      acura      audi       bmw  ...  mercedes    nissan    toyota\n",
              "Brand 1                                 ...                              \n",
              "acura          NaN  2.147856  1.494509  ...  2.088821  2.287948  1.710854\n",
              "audi      2.147856       NaN  1.753188  ...  3.285974  1.315825  0.978341\n",
              "bmw       1.494509  1.753188       NaN  ...  1.837805  1.191300  1.362424\n",
              "ford      1.589182  1.814620  1.468017  ...  2.324528  1.672768  1.864682\n",
              "honda     2.749186  1.312157  1.185285  ...  1.600832  3.754616  3.439287\n",
              "infiniti  3.019446  2.352285  1.884236  ...  2.306080  2.891204  0.990894\n",
              "lexus     2.952461  2.412989  2.055468  ...  3.926882  1.447601  2.171539\n",
              "mercedes  2.088821  3.285974  1.837805  ...       NaN  1.576119  1.976562\n",
              "nissan    2.287948  1.315825  1.191300  ...  1.576119       NaN  2.821828\n",
              "toyota    1.710854  0.978341  1.362424  ...  1.976562  2.821828       NaN\n",
              "\n",
              "[10 rows x 10 columns]"
            ]
          },
          "metadata": {
            "tags": []
          },
          "execution_count": 25
        }
      ]
    },
    {
      "cell_type": "code",
      "metadata": {
        "id": "ZRcQa5V1IGZt",
        "outputId": "67c070b4-e30c-4b12-f8d9-94c82607aad2",
        "colab": {
          "base_uri": "https://localhost:8080/",
          "height": 282
        }
      },
      "source": [
        "mds = MDS(2,random_state=0,dissimilarity='precomputed')\n",
        "dis_sim_2d_matrix = mds.fit_transform(dis_matrix) ##computes distances\n",
        "data = pd.DataFrame(dis_sim_2d_matrix, columns=['x', 'y'], index = dis_matrix.index)\n",
        "plt.scatter(data.x, data.y)\n",
        "ax = plt.gca()\n",
        "\n",
        "print(\"MDS Map\")\n",
        "for index, x_val, y_val in data.itertuples():\n",
        "    ax.annotate(index, (x_val, y_val))"
      ],
      "execution_count": 26,
      "outputs": [
        {
          "output_type": "stream",
          "text": [
            "MDS Map\n"
          ],
          "name": "stdout"
        },
        {
          "output_type": "display_data",
          "data": {
            "image/png": "[encoded data removed]",
            "text/plain": [
              "<Figure size 432x288 with 1 Axes>"
            ]
          },
          "metadata": {
            "tags": [],
            "needs_background": "light"
          }
        }
      ]
    },
    {
      "cell_type": "markdown",
      "metadata": {
        "id": "QFino6bMmpXH"
      },
      "source": [
        "# TASK B: Finding common attributes about cars and comparing them to the brands"
      ]
    },
    {
      "cell_type": "markdown",
      "metadata": {
        "id": "dgsYeq7hxUET"
      },
      "source": [
        "\n",
        "## List of Word Frequency"
      ]
    },
    {
      "cell_type": "code",
      "metadata": {
        "id": "tfyNisYOypEo",
        "outputId": "09f06635-a33b-455a-cc59-b7384f788b42",
        "colab": {
          "base_uri": "https://localhost:8080/"
        }
      },
      "source": [
        "import nltk\n",
        "nltk.download('stopwords')\n",
        "from nltk.corpus import stopwords\n",
        "stop_words=stopwords.words('english')"
      ],
      "execution_count": 34,
      "outputs": [
        {
          "output_type": "stream",
          "text": [
            "[nltk_data] Downloading package stopwords to /root/nltk_data...\n",
            "[nltk_data]   Unzipping corpora/stopwords.zip.\n"
          ],
          "name": "stdout"
        }
      ]
    },
    {
      "cell_type": "code",
      "metadata": {
        "id": "u08NWBnrT-dl"
      },
      "source": [
        "# Count Word Frequency\n",
        "word_freq = {}\n",
        "for i in range((comments.shape[0])):\n",
        "  if type(replaced_df.loc[i,'comments']) == str: \n",
        "    user_comment=replaced_df.loc[i,'comments'].lower()\n",
        "    match_pattern = re.findall(r'\\b[a-z]{3,15}\\b', user_comment)\n",
        "    for word in match_pattern:\n",
        "      if word not in stop_words:\n",
        "        count = word_freq.get(word,0)\n",
        "        word_freq[word] = count + 1"
      ],
      "execution_count": 35,
      "outputs": []
    },
    {
      "cell_type": "code",
      "metadata": {
        "id": "5JN8uLoUVB-n"
      },
      "source": [
        "word_freq_df = pd.DataFrame.from_dict(word_freq, orient='index', columns=['Frequency'])\n",
        "#word_freq_df.sort_values(by=['Frequency'], ascending=False).head(10)"
      ],
      "execution_count": 36,
      "outputs": []
    },
    {
      "cell_type": "code",
      "metadata": {
        "id": "sP5jWTsPiIJA"
      },
      "source": [
        "sorted=word_freq_df.sort_values(by=['Frequency'], ascending=False)"
      ],
      "execution_count": 37,
      "outputs": []
    },
    {
      "cell_type": "code",
      "metadata": {
        "id": "ByWIflMkxQ2D"
      },
      "source": [
        "word_freq_df.to_csv(\"word_freq.csv\")"
      ],
      "execution_count": 38,
      "outputs": []
    },
    {
      "cell_type": "code",
      "metadata": {
        "id": "2AUeCx_2jAVK"
      },
      "source": [
        "sorted.to_csv(\"sorted_word_freq.csv\")"
      ],
      "execution_count": 39,
      "outputs": []
    },
    {
      "cell_type": "markdown",
      "metadata": {
        "id": "XA6AA3FlPXYz"
      },
      "source": [
        "## Counting Attributes"
      ]
    },
    {
      "cell_type": "code",
      "metadata": {
        "id": "ZJDJG38ErAFU"
      },
      "source": [
        "attributes=['performance', 'luxury', 'interior', 'power', 'speed', \n",
        "            'reliability', 'pretty', 'quality', 'mpg', 'size', 'acceleration', \n",
        "            'suspension', 'design', 'service', 'exterior', \n",
        "            'reliable', 'space', 'maintenance', 'powerful', \n",
        "            'convertible', 'comfortable', 'racing', 'prestige' ]"
      ],
      "execution_count": 40,
      "outputs": []
    },
    {
      "cell_type": "code",
      "metadata": {
        "id": "kG39-pjrq_-K"
      },
      "source": [
        "# Looking through all the comments after the model names have been replaced by the brand names\n",
        "attributes_count_dict ={}\n",
        "for attribute in attributes:\n",
        "  for i in range((replaced_df.shape[0])):\n",
        "    if type(replaced_df.loc[i,'comments']) == str: \n",
        "      user_comment=replaced_df.loc[i,'comments'].lower()\n",
        "      if (attribute.lower() in user_comment):\n",
        "        if attribute not in attributes_count_dict:\n",
        "          attributes_count_dict[attribute] = 1\n",
        "        else:\n",
        "          attributes_count_dict[attribute] += 1"
      ],
      "execution_count": 41,
      "outputs": []
    },
    {
      "cell_type": "code",
      "metadata": {
        "id": "j23ikBStq_gn",
        "outputId": "a27f0387-97f3-441b-8764-c556e128a3de",
        "colab": {
          "base_uri": "https://localhost:8080/",
          "height": 0
        }
      },
      "source": [
        "# Making the dictionary into a dataframe\n",
        "attributes_count_df = pd.DataFrame.from_dict(attributes_count_dict, orient='index', columns=['Frequency'])\n",
        "print(\"Top 5 attributes: \")\n",
        "attributes_count_df.sort_values(by=['Frequency'], ascending=False).head(5)"
      ],
      "execution_count": 42,
      "outputs": [
        {
          "output_type": "stream",
          "text": [
            "Top 5 attributes: \n"
          ],
          "name": "stdout"
        },
        {
          "output_type": "execute_result",
          "data": {
            "text/html": [
              "<div>\n",
              "<style scoped>\n",
              "    .dataframe tbody tr th:only-of-type {\n",
              "        vertical-align: middle;\n",
              "    }\n",
              "\n",
              "    .dataframe tbody tr th {\n",
              "        vertical-align: top;\n",
              "    }\n",
              "\n",
              "    .dataframe thead th {\n",
              "        text-align: right;\n",
              "    }\n",
              "</style>\n",
              "<table border=\"1\" class=\"dataframe\">\n",
              "  <thead>\n",
              "    <tr style=\"text-align: right;\">\n",
              "      <th></th>\n",
              "      <th>Frequency</th>\n",
              "    </tr>\n",
              "  </thead>\n",
              "  <tbody>\n",
              "    <tr>\n",
              "      <th>performance</th>\n",
              "      <td>743</td>\n",
              "    </tr>\n",
              "    <tr>\n",
              "      <th>power</th>\n",
              "      <td>626</td>\n",
              "    </tr>\n",
              "    <tr>\n",
              "      <th>luxury</th>\n",
              "      <td>541</td>\n",
              "    </tr>\n",
              "    <tr>\n",
              "      <th>speed</th>\n",
              "      <td>459</td>\n",
              "    </tr>\n",
              "    <tr>\n",
              "      <th>interior</th>\n",
              "      <td>419</td>\n",
              "    </tr>\n",
              "  </tbody>\n",
              "</table>\n",
              "</div>"
            ],
            "text/plain": [
              "             Frequency\n",
              "performance        743\n",
              "power              626\n",
              "luxury             541\n",
              "speed              459\n",
              "interior           419"
            ]
          },
          "metadata": {
            "tags": []
          },
          "execution_count": 42
        }
      ]
    },
    {
      "cell_type": "code",
      "metadata": {
        "id": "ngikdJAjrvIW"
      },
      "source": [
        "top_five_attributes=attributes_count_df.sort_values(by=['Frequency'], ascending=False).head(5).index.to_list()"
      ],
      "execution_count": 43,
      "outputs": []
    },
    {
      "cell_type": "code",
      "metadata": {
        "id": "EINtsAoHunUl"
      },
      "source": [
        "top_five_brands=replaced_count_df.sort_values(by=['Frequency'], ascending=False).head(5).index.to_list()"
      ],
      "execution_count": 44,
      "outputs": []
    },
    {
      "cell_type": "code",
      "metadata": {
        "id": "gBqi3UDZr1ra"
      },
      "source": [
        "# Creating a list that creates the pairs a brand with an atrribute name to find the frequency when both are mentioned at the same time in a comment\n",
        "# performance bmw\n",
        "# performance toyota\n",
        "# performance acura\n",
        "\n",
        "i= 0\n",
        "#count= 0\n",
        "ba_lift_dict={}\n",
        "ba_used_list=[]\n",
        "for name1 in top_five_brands:\n",
        "  #count+=1\n",
        "  #print(count)\n",
        "  for name2 in top_five_attributes:\n",
        "    # you want the \n",
        "    #if (name1 != name2) and (name2 not in used_list):\n",
        "    i+=1\n",
        "    #print(str(count)+'-'+str(i))\n",
        "    ba_lift_dict[i] = []\n",
        "    ba_lift_dict[i].append(name1)\n",
        "    ba_lift_dict[i].append(name2)\n",
        "  ba_used_list.append(name1)\n",
        "\n",
        "pair_brand=[]\n",
        "pair_attribute=[]\n",
        "ba_freq=[]\n",
        "for pair in ba_lift_dict.values():\n",
        "    pair_brand.append(pair[0])\n",
        "    pair_attribute.append(pair[1])\n",
        "    ba_freq.append(0)\n",
        "\n",
        "for i in range(len(pair_brand)):\n",
        "    for j in range((replaced_df.shape[0])):\n",
        "      if type(replaced_df.loc[j,'comments']) == str: \n",
        "        user_comment=replaced_df.loc[j,'comments'].lower()\n",
        "        if ((pair_brand[i].lower() in user_comment) and (pair_attribute[i].lower() in user_comment)):\n",
        "          num=ba_freq[i]+1\n",
        "          ba_freq[i]=num"
      ],
      "execution_count": 45,
      "outputs": []
    },
    {
      "cell_type": "code",
      "metadata": {
        "id": "b_GRI3A9sI3j"
      },
      "source": [
        "# Creating a dataframe of the information\n",
        "ba_pair_freq_df= pd.DataFrame(pair_brand, columns = ['Brand'])\n",
        "ba_pair_freq_df[\"Attribute\"]=pair_attribute\n",
        "ba_pair_freq_df[\"Frequency\"]=ba_freq"
      ],
      "execution_count": 46,
      "outputs": []
    },
    {
      "cell_type": "code",
      "metadata": {
        "id": "vI_e34bZsLGu"
      },
      "source": [
        "# Finding the lift ratio for each pair\n",
        "samples = comments.shape[0]\n",
        "ba_lift_ratio_list = []\n",
        "for i in range((ba_pair_freq_df.shape[0])):\n",
        "  pair_freq = ba_pair_freq_df.loc[i,'Frequency']\n",
        "  brand_pair = ba_pair_freq_df.loc[i,'Brand']\n",
        "  attribute_pair = ba_pair_freq_df.loc[i,'Attribute']\n",
        "  A_freq = replaced_count_df.loc[brand_pair].to_numpy()[0]\n",
        "  B_freq = attributes_count_df.loc[attribute_pair].to_numpy()[0]\n",
        "  ba_lift_ratio = (samples*pair_freq)/(A_freq*B_freq)\n",
        "  ba_lift_ratio_list.append(ba_lift_ratio)"
      ],
      "execution_count": 47,
      "outputs": []
    },
    {
      "cell_type": "code",
      "metadata": {
        "id": "OP_-3pFnsNky"
      },
      "source": [
        "# Creating a dataframe that shows the two brand names and their lift ratio\n",
        "ba_lift_ratio_df= pd.DataFrame(pair_brand, columns = ['Brand'])\n",
        "ba_lift_ratio_df[\"Attribute\"]=pair_attribute\n",
        "ba_lift_ratio_df[\"Lift Ratio\"]=ba_lift_ratio_list"
      ],
      "execution_count": 48,
      "outputs": []
    },
    {
      "cell_type": "code",
      "metadata": {
        "id": "WzAccX-Y_2E1",
        "outputId": "9bb32f4b-94f8-4a29-9f8b-151523f18485",
        "colab": {
          "base_uri": "https://localhost:8080/",
          "height": 0
        }
      },
      "source": [
        "ba_lift_ratio_df"
      ],
      "execution_count": 49,
      "outputs": [
        {
          "output_type": "execute_result",
          "data": {
            "text/html": [
              "<div>\n",
              "<style scoped>\n",
              "    .dataframe tbody tr th:only-of-type {\n",
              "        vertical-align: middle;\n",
              "    }\n",
              "\n",
              "    .dataframe tbody tr th {\n",
              "        vertical-align: top;\n",
              "    }\n",
              "\n",
              "    .dataframe thead th {\n",
              "        text-align: right;\n",
              "    }\n",
              "</style>\n",
              "<table border=\"1\" class=\"dataframe\">\n",
              "  <thead>\n",
              "    <tr style=\"text-align: right;\">\n",
              "      <th></th>\n",
              "      <th>Brand</th>\n",
              "      <th>Attribute</th>\n",
              "      <th>Lift Ratio</th>\n",
              "    </tr>\n",
              "  </thead>\n",
              "  <tbody>\n",
              "    <tr>\n",
              "      <th>0</th>\n",
              "      <td>bmw</td>\n",
              "      <td>performance</td>\n",
              "      <td>1.503053</td>\n",
              "    </tr>\n",
              "    <tr>\n",
              "      <th>1</th>\n",
              "      <td>bmw</td>\n",
              "      <td>power</td>\n",
              "      <td>1.542897</td>\n",
              "    </tr>\n",
              "    <tr>\n",
              "      <th>2</th>\n",
              "      <td>bmw</td>\n",
              "      <td>luxury</td>\n",
              "      <td>1.450566</td>\n",
              "    </tr>\n",
              "    <tr>\n",
              "      <th>3</th>\n",
              "      <td>bmw</td>\n",
              "      <td>speed</td>\n",
              "      <td>1.271322</td>\n",
              "    </tr>\n",
              "    <tr>\n",
              "      <th>4</th>\n",
              "      <td>bmw</td>\n",
              "      <td>interior</td>\n",
              "      <td>1.360673</td>\n",
              "    </tr>\n",
              "    <tr>\n",
              "      <th>5</th>\n",
              "      <td>acura</td>\n",
              "      <td>performance</td>\n",
              "      <td>1.439675</td>\n",
              "    </tr>\n",
              "    <tr>\n",
              "      <th>6</th>\n",
              "      <td>acura</td>\n",
              "      <td>power</td>\n",
              "      <td>1.802935</td>\n",
              "    </tr>\n",
              "    <tr>\n",
              "      <th>7</th>\n",
              "      <td>acura</td>\n",
              "      <td>luxury</td>\n",
              "      <td>1.961656</td>\n",
              "    </tr>\n",
              "    <tr>\n",
              "      <th>8</th>\n",
              "      <td>acura</td>\n",
              "      <td>speed</td>\n",
              "      <td>1.578103</td>\n",
              "    </tr>\n",
              "    <tr>\n",
              "      <th>9</th>\n",
              "      <td>acura</td>\n",
              "      <td>interior</td>\n",
              "      <td>1.668451</td>\n",
              "    </tr>\n",
              "    <tr>\n",
              "      <th>10</th>\n",
              "      <td>audi</td>\n",
              "      <td>performance</td>\n",
              "      <td>1.334863</td>\n",
              "    </tr>\n",
              "    <tr>\n",
              "      <th>11</th>\n",
              "      <td>audi</td>\n",
              "      <td>power</td>\n",
              "      <td>1.856410</td>\n",
              "    </tr>\n",
              "    <tr>\n",
              "      <th>12</th>\n",
              "      <td>audi</td>\n",
              "      <td>luxury</td>\n",
              "      <td>1.666616</td>\n",
              "    </tr>\n",
              "    <tr>\n",
              "      <th>13</th>\n",
              "      <td>audi</td>\n",
              "      <td>speed</td>\n",
              "      <td>1.506006</td>\n",
              "    </tr>\n",
              "    <tr>\n",
              "      <th>14</th>\n",
              "      <td>audi</td>\n",
              "      <td>interior</td>\n",
              "      <td>2.367072</td>\n",
              "    </tr>\n",
              "    <tr>\n",
              "      <th>15</th>\n",
              "      <td>honda</td>\n",
              "      <td>performance</td>\n",
              "      <td>1.446627</td>\n",
              "    </tr>\n",
              "    <tr>\n",
              "      <th>16</th>\n",
              "      <td>honda</td>\n",
              "      <td>power</td>\n",
              "      <td>1.826599</td>\n",
              "    </tr>\n",
              "    <tr>\n",
              "      <th>17</th>\n",
              "      <td>honda</td>\n",
              "      <td>luxury</td>\n",
              "      <td>1.859957</td>\n",
              "    </tr>\n",
              "    <tr>\n",
              "      <th>18</th>\n",
              "      <td>honda</td>\n",
              "      <td>speed</td>\n",
              "      <td>1.444884</td>\n",
              "    </tr>\n",
              "    <tr>\n",
              "      <th>19</th>\n",
              "      <td>honda</td>\n",
              "      <td>interior</td>\n",
              "      <td>1.337210</td>\n",
              "    </tr>\n",
              "    <tr>\n",
              "      <th>20</th>\n",
              "      <td>infiniti</td>\n",
              "      <td>performance</td>\n",
              "      <td>1.458758</td>\n",
              "    </tr>\n",
              "    <tr>\n",
              "      <th>21</th>\n",
              "      <td>infiniti</td>\n",
              "      <td>power</td>\n",
              "      <td>1.418276</td>\n",
              "    </tr>\n",
              "    <tr>\n",
              "      <th>22</th>\n",
              "      <td>infiniti</td>\n",
              "      <td>luxury</td>\n",
              "      <td>1.662423</td>\n",
              "    </tr>\n",
              "    <tr>\n",
              "      <th>23</th>\n",
              "      <td>infiniti</td>\n",
              "      <td>speed</td>\n",
              "      <td>1.205793</td>\n",
              "    </tr>\n",
              "    <tr>\n",
              "      <th>24</th>\n",
              "      <td>infiniti</td>\n",
              "      <td>interior</td>\n",
              "      <td>1.981357</td>\n",
              "    </tr>\n",
              "  </tbody>\n",
              "</table>\n",
              "</div>"
            ],
            "text/plain": [
              "       Brand    Attribute  Lift Ratio\n",
              "0        bmw  performance    1.503053\n",
              "1        bmw        power    1.542897\n",
              "2        bmw       luxury    1.450566\n",
              "3        bmw        speed    1.271322\n",
              "4        bmw     interior    1.360673\n",
              "5      acura  performance    1.439675\n",
              "6      acura        power    1.802935\n",
              "7      acura       luxury    1.961656\n",
              "8      acura        speed    1.578103\n",
              "9      acura     interior    1.668451\n",
              "10      audi  performance    1.334863\n",
              "11      audi        power    1.856410\n",
              "12      audi       luxury    1.666616\n",
              "13      audi        speed    1.506006\n",
              "14      audi     interior    2.367072\n",
              "15     honda  performance    1.446627\n",
              "16     honda        power    1.826599\n",
              "17     honda       luxury    1.859957\n",
              "18     honda        speed    1.444884\n",
              "19     honda     interior    1.337210\n",
              "20  infiniti  performance    1.458758\n",
              "21  infiniti        power    1.418276\n",
              "22  infiniti       luxury    1.662423\n",
              "23  infiniti        speed    1.205793\n",
              "24  infiniti     interior    1.981357"
            ]
          },
          "metadata": {
            "tags": []
          },
          "execution_count": 49
        }
      ]
    },
    {
      "cell_type": "markdown",
      "metadata": {
        "id": "18mtD_6RADzF"
      },
      "source": [
        "The top five attibutes are: performance power, luxury, speed and iterior"
      ]
    },
    {
      "cell_type": "code",
      "metadata": {
        "id": "t8GfNA3iArih",
        "outputId": "be61c0df-0364-434f-c505-174574bb0a99",
        "colab": {
          "base_uri": "https://localhost:8080/",
          "height": 0
        }
      },
      "source": [
        "#For each brand, we sort the attributes by lift ratio in descending order\n",
        "ba_lift_ratio_df.groupby('Brand').apply(lambda x: x.sort_values(by='Lift Ratio', ascending=False))"
      ],
      "execution_count": 50,
      "outputs": [
        {
          "output_type": "execute_result",
          "data": {
            "text/html": [
              "<div>\n",
              "<style scoped>\n",
              "    .dataframe tbody tr th:only-of-type {\n",
              "        vertical-align: middle;\n",
              "    }\n",
              "\n",
              "    .dataframe tbody tr th {\n",
              "        vertical-align: top;\n",
              "    }\n",
              "\n",
              "    .dataframe thead th {\n",
              "        text-align: right;\n",
              "    }\n",
              "</style>\n",
              "<table border=\"1\" class=\"dataframe\">\n",
              "  <thead>\n",
              "    <tr style=\"text-align: right;\">\n",
              "      <th></th>\n",
              "      <th></th>\n",
              "      <th>Brand</th>\n",
              "      <th>Attribute</th>\n",
              "      <th>Lift Ratio</th>\n",
              "    </tr>\n",
              "    <tr>\n",
              "      <th>Brand</th>\n",
              "      <th></th>\n",
              "      <th></th>\n",
              "      <th></th>\n",
              "      <th></th>\n",
              "    </tr>\n",
              "  </thead>\n",
              "  <tbody>\n",
              "    <tr>\n",
              "      <th rowspan=\"5\" valign=\"top\">acura</th>\n",
              "      <th>7</th>\n",
              "      <td>acura</td>\n",
              "      <td>luxury</td>\n",
              "      <td>1.961656</td>\n",
              "    </tr>\n",
              "    <tr>\n",
              "      <th>6</th>\n",
              "      <td>acura</td>\n",
              "      <td>power</td>\n",
              "      <td>1.802935</td>\n",
              "    </tr>\n",
              "    <tr>\n",
              "      <th>9</th>\n",
              "      <td>acura</td>\n",
              "      <td>interior</td>\n",
              "      <td>1.668451</td>\n",
              "    </tr>\n",
              "    <tr>\n",
              "      <th>8</th>\n",
              "      <td>acura</td>\n",
              "      <td>speed</td>\n",
              "      <td>1.578103</td>\n",
              "    </tr>\n",
              "    <tr>\n",
              "      <th>5</th>\n",
              "      <td>acura</td>\n",
              "      <td>performance</td>\n",
              "      <td>1.439675</td>\n",
              "    </tr>\n",
              "    <tr>\n",
              "      <th rowspan=\"5\" valign=\"top\">audi</th>\n",
              "      <th>14</th>\n",
              "      <td>audi</td>\n",
              "      <td>interior</td>\n",
              "      <td>2.367072</td>\n",
              "    </tr>\n",
              "    <tr>\n",
              "      <th>11</th>\n",
              "      <td>audi</td>\n",
              "      <td>power</td>\n",
              "      <td>1.856410</td>\n",
              "    </tr>\n",
              "    <tr>\n",
              "      <th>12</th>\n",
              "      <td>audi</td>\n",
              "      <td>luxury</td>\n",
              "      <td>1.666616</td>\n",
              "    </tr>\n",
              "    <tr>\n",
              "      <th>13</th>\n",
              "      <td>audi</td>\n",
              "      <td>speed</td>\n",
              "      <td>1.506006</td>\n",
              "    </tr>\n",
              "    <tr>\n",
              "      <th>10</th>\n",
              "      <td>audi</td>\n",
              "      <td>performance</td>\n",
              "      <td>1.334863</td>\n",
              "    </tr>\n",
              "    <tr>\n",
              "      <th rowspan=\"5\" valign=\"top\">bmw</th>\n",
              "      <th>1</th>\n",
              "      <td>bmw</td>\n",
              "      <td>power</td>\n",
              "      <td>1.542897</td>\n",
              "    </tr>\n",
              "    <tr>\n",
              "      <th>0</th>\n",
              "      <td>bmw</td>\n",
              "      <td>performance</td>\n",
              "      <td>1.503053</td>\n",
              "    </tr>\n",
              "    <tr>\n",
              "      <th>2</th>\n",
              "      <td>bmw</td>\n",
              "      <td>luxury</td>\n",
              "      <td>1.450566</td>\n",
              "    </tr>\n",
              "    <tr>\n",
              "      <th>4</th>\n",
              "      <td>bmw</td>\n",
              "      <td>interior</td>\n",
              "      <td>1.360673</td>\n",
              "    </tr>\n",
              "    <tr>\n",
              "      <th>3</th>\n",
              "      <td>bmw</td>\n",
              "      <td>speed</td>\n",
              "      <td>1.271322</td>\n",
              "    </tr>\n",
              "    <tr>\n",
              "      <th rowspan=\"5\" valign=\"top\">honda</th>\n",
              "      <th>17</th>\n",
              "      <td>honda</td>\n",
              "      <td>luxury</td>\n",
              "      <td>1.859957</td>\n",
              "    </tr>\n",
              "    <tr>\n",
              "      <th>16</th>\n",
              "      <td>honda</td>\n",
              "      <td>power</td>\n",
              "      <td>1.826599</td>\n",
              "    </tr>\n",
              "    <tr>\n",
              "      <th>15</th>\n",
              "      <td>honda</td>\n",
              "      <td>performance</td>\n",
              "      <td>1.446627</td>\n",
              "    </tr>\n",
              "    <tr>\n",
              "      <th>18</th>\n",
              "      <td>honda</td>\n",
              "      <td>speed</td>\n",
              "      <td>1.444884</td>\n",
              "    </tr>\n",
              "    <tr>\n",
              "      <th>19</th>\n",
              "      <td>honda</td>\n",
              "      <td>interior</td>\n",
              "      <td>1.337210</td>\n",
              "    </tr>\n",
              "    <tr>\n",
              "      <th rowspan=\"5\" valign=\"top\">infiniti</th>\n",
              "      <th>24</th>\n",
              "      <td>infiniti</td>\n",
              "      <td>interior</td>\n",
              "      <td>1.981357</td>\n",
              "    </tr>\n",
              "    <tr>\n",
              "      <th>22</th>\n",
              "      <td>infiniti</td>\n",
              "      <td>luxury</td>\n",
              "      <td>1.662423</td>\n",
              "    </tr>\n",
              "    <tr>\n",
              "      <th>20</th>\n",
              "      <td>infiniti</td>\n",
              "      <td>performance</td>\n",
              "      <td>1.458758</td>\n",
              "    </tr>\n",
              "    <tr>\n",
              "      <th>21</th>\n",
              "      <td>infiniti</td>\n",
              "      <td>power</td>\n",
              "      <td>1.418276</td>\n",
              "    </tr>\n",
              "    <tr>\n",
              "      <th>23</th>\n",
              "      <td>infiniti</td>\n",
              "      <td>speed</td>\n",
              "      <td>1.205793</td>\n",
              "    </tr>\n",
              "  </tbody>\n",
              "</table>\n",
              "</div>"
            ],
            "text/plain": [
              "                Brand    Attribute  Lift Ratio\n",
              "Brand                                         \n",
              "acura    7      acura       luxury    1.961656\n",
              "         6      acura        power    1.802935\n",
              "         9      acura     interior    1.668451\n",
              "         8      acura        speed    1.578103\n",
              "         5      acura  performance    1.439675\n",
              "audi     14      audi     interior    2.367072\n",
              "         11      audi        power    1.856410\n",
              "         12      audi       luxury    1.666616\n",
              "         13      audi        speed    1.506006\n",
              "         10      audi  performance    1.334863\n",
              "bmw      1        bmw        power    1.542897\n",
              "         0        bmw  performance    1.503053\n",
              "         2        bmw       luxury    1.450566\n",
              "         4        bmw     interior    1.360673\n",
              "         3        bmw        speed    1.271322\n",
              "honda    17     honda       luxury    1.859957\n",
              "         16     honda        power    1.826599\n",
              "         15     honda  performance    1.446627\n",
              "         18     honda        speed    1.444884\n",
              "         19     honda     interior    1.337210\n",
              "infiniti 24  infiniti     interior    1.981357\n",
              "         22  infiniti       luxury    1.662423\n",
              "         20  infiniti  performance    1.458758\n",
              "         21  infiniti        power    1.418276\n",
              "         23  infiniti        speed    1.205793"
            ]
          },
          "metadata": {
            "tags": []
          },
          "execution_count": 50
        }
      ]
    },
    {
      "cell_type": "code",
      "metadata": {
        "id": "fT7r7qdUCssc"
      },
      "source": [
        "grouped = ba_lift_ratio_df.groupby('Brand').apply(lambda x: x.sort_values(by='Lift Ratio', ascending=False))"
      ],
      "execution_count": 51,
      "outputs": []
    },
    {
      "cell_type": "markdown",
      "metadata": {
        "id": "_1SazH6sCCRH"
      },
      "source": [
        "For Acura, the attribute most strongly associated with it is'luxury' with a lift ratio of 1.96. \n",
        "For Audi, it is 'interior' with a lift ratio of 2.36. "
      ]
    },
    {
      "cell_type": "code",
      "metadata": {
        "id": "0h8k9AD7Bj8Z",
        "outputId": "67ee04c4-cd49-4a96-9e71-3a6184de7284",
        "colab": {
          "base_uri": "https://localhost:8080/",
          "height": 0
        }
      },
      "source": [
        "#For each attribute, we sort the brands by lift ratio in descending order\n",
        "ba_lift_ratio_df.groupby('Attribute').apply(lambda x: x.sort_values(by='Lift Ratio', ascending=False))"
      ],
      "execution_count": 52,
      "outputs": [
        {
          "output_type": "execute_result",
          "data": {
            "text/html": [
              "<div>\n",
              "<style scoped>\n",
              "    .dataframe tbody tr th:only-of-type {\n",
              "        vertical-align: middle;\n",
              "    }\n",
              "\n",
              "    .dataframe tbody tr th {\n",
              "        vertical-align: top;\n",
              "    }\n",
              "\n",
              "    .dataframe thead th {\n",
              "        text-align: right;\n",
              "    }\n",
              "</style>\n",
              "<table border=\"1\" class=\"dataframe\">\n",
              "  <thead>\n",
              "    <tr style=\"text-align: right;\">\n",
              "      <th></th>\n",
              "      <th></th>\n",
              "      <th>Brand</th>\n",
              "      <th>Attribute</th>\n",
              "      <th>Lift Ratio</th>\n",
              "    </tr>\n",
              "    <tr>\n",
              "      <th>Attribute</th>\n",
              "      <th></th>\n",
              "      <th></th>\n",
              "      <th></th>\n",
              "      <th></th>\n",
              "    </tr>\n",
              "  </thead>\n",
              "  <tbody>\n",
              "    <tr>\n",
              "      <th rowspan=\"5\" valign=\"top\">interior</th>\n",
              "      <th>14</th>\n",
              "      <td>audi</td>\n",
              "      <td>interior</td>\n",
              "      <td>2.367072</td>\n",
              "    </tr>\n",
              "    <tr>\n",
              "      <th>24</th>\n",
              "      <td>infiniti</td>\n",
              "      <td>interior</td>\n",
              "      <td>1.981357</td>\n",
              "    </tr>\n",
              "    <tr>\n",
              "      <th>9</th>\n",
              "      <td>acura</td>\n",
              "      <td>interior</td>\n",
              "      <td>1.668451</td>\n",
              "    </tr>\n",
              "    <tr>\n",
              "      <th>4</th>\n",
              "      <td>bmw</td>\n",
              "      <td>interior</td>\n",
              "      <td>1.360673</td>\n",
              "    </tr>\n",
              "    <tr>\n",
              "      <th>19</th>\n",
              "      <td>honda</td>\n",
              "      <td>interior</td>\n",
              "      <td>1.337210</td>\n",
              "    </tr>\n",
              "    <tr>\n",
              "      <th rowspan=\"5\" valign=\"top\">luxury</th>\n",
              "      <th>7</th>\n",
              "      <td>acura</td>\n",
              "      <td>luxury</td>\n",
              "      <td>1.961656</td>\n",
              "    </tr>\n",
              "    <tr>\n",
              "      <th>17</th>\n",
              "      <td>honda</td>\n",
              "      <td>luxury</td>\n",
              "      <td>1.859957</td>\n",
              "    </tr>\n",
              "    <tr>\n",
              "      <th>12</th>\n",
              "      <td>audi</td>\n",
              "      <td>luxury</td>\n",
              "      <td>1.666616</td>\n",
              "    </tr>\n",
              "    <tr>\n",
              "      <th>22</th>\n",
              "      <td>infiniti</td>\n",
              "      <td>luxury</td>\n",
              "      <td>1.662423</td>\n",
              "    </tr>\n",
              "    <tr>\n",
              "      <th>2</th>\n",
              "      <td>bmw</td>\n",
              "      <td>luxury</td>\n",
              "      <td>1.450566</td>\n",
              "    </tr>\n",
              "    <tr>\n",
              "      <th rowspan=\"5\" valign=\"top\">performance</th>\n",
              "      <th>0</th>\n",
              "      <td>bmw</td>\n",
              "      <td>performance</td>\n",
              "      <td>1.503053</td>\n",
              "    </tr>\n",
              "    <tr>\n",
              "      <th>20</th>\n",
              "      <td>infiniti</td>\n",
              "      <td>performance</td>\n",
              "      <td>1.458758</td>\n",
              "    </tr>\n",
              "    <tr>\n",
              "      <th>15</th>\n",
              "      <td>honda</td>\n",
              "      <td>performance</td>\n",
              "      <td>1.446627</td>\n",
              "    </tr>\n",
              "    <tr>\n",
              "      <th>5</th>\n",
              "      <td>acura</td>\n",
              "      <td>performance</td>\n",
              "      <td>1.439675</td>\n",
              "    </tr>\n",
              "    <tr>\n",
              "      <th>10</th>\n",
              "      <td>audi</td>\n",
              "      <td>performance</td>\n",
              "      <td>1.334863</td>\n",
              "    </tr>\n",
              "    <tr>\n",
              "      <th rowspan=\"5\" valign=\"top\">power</th>\n",
              "      <th>11</th>\n",
              "      <td>audi</td>\n",
              "      <td>power</td>\n",
              "      <td>1.856410</td>\n",
              "    </tr>\n",
              "    <tr>\n",
              "      <th>16</th>\n",
              "      <td>honda</td>\n",
              "      <td>power</td>\n",
              "      <td>1.826599</td>\n",
              "    </tr>\n",
              "    <tr>\n",
              "      <th>6</th>\n",
              "      <td>acura</td>\n",
              "      <td>power</td>\n",
              "      <td>1.802935</td>\n",
              "    </tr>\n",
              "    <tr>\n",
              "      <th>1</th>\n",
              "      <td>bmw</td>\n",
              "      <td>power</td>\n",
              "      <td>1.542897</td>\n",
              "    </tr>\n",
              "    <tr>\n",
              "      <th>21</th>\n",
              "      <td>infiniti</td>\n",
              "      <td>power</td>\n",
              "      <td>1.418276</td>\n",
              "    </tr>\n",
              "    <tr>\n",
              "      <th rowspan=\"5\" valign=\"top\">speed</th>\n",
              "      <th>8</th>\n",
              "      <td>acura</td>\n",
              "      <td>speed</td>\n",
              "      <td>1.578103</td>\n",
              "    </tr>\n",
              "    <tr>\n",
              "      <th>13</th>\n",
              "      <td>audi</td>\n",
              "      <td>speed</td>\n",
              "      <td>1.506006</td>\n",
              "    </tr>\n",
              "    <tr>\n",
              "      <th>18</th>\n",
              "      <td>honda</td>\n",
              "      <td>speed</td>\n",
              "      <td>1.444884</td>\n",
              "    </tr>\n",
              "    <tr>\n",
              "      <th>3</th>\n",
              "      <td>bmw</td>\n",
              "      <td>speed</td>\n",
              "      <td>1.271322</td>\n",
              "    </tr>\n",
              "    <tr>\n",
              "      <th>23</th>\n",
              "      <td>infiniti</td>\n",
              "      <td>speed</td>\n",
              "      <td>1.205793</td>\n",
              "    </tr>\n",
              "  </tbody>\n",
              "</table>\n",
              "</div>"
            ],
            "text/plain": [
              "                   Brand    Attribute  Lift Ratio\n",
              "Attribute                                        \n",
              "interior    14      audi     interior    2.367072\n",
              "            24  infiniti     interior    1.981357\n",
              "            9      acura     interior    1.668451\n",
              "            4        bmw     interior    1.360673\n",
              "            19     honda     interior    1.337210\n",
              "luxury      7      acura       luxury    1.961656\n",
              "            17     honda       luxury    1.859957\n",
              "            12      audi       luxury    1.666616\n",
              "            22  infiniti       luxury    1.662423\n",
              "            2        bmw       luxury    1.450566\n",
              "performance 0        bmw  performance    1.503053\n",
              "            20  infiniti  performance    1.458758\n",
              "            15     honda  performance    1.446627\n",
              "            5      acura  performance    1.439675\n",
              "            10      audi  performance    1.334863\n",
              "power       11      audi        power    1.856410\n",
              "            16     honda        power    1.826599\n",
              "            6      acura        power    1.802935\n",
              "            1        bmw        power    1.542897\n",
              "            21  infiniti        power    1.418276\n",
              "speed       8      acura        speed    1.578103\n",
              "            13      audi        speed    1.506006\n",
              "            18     honda        speed    1.444884\n",
              "            3        bmw        speed    1.271322\n",
              "            23  infiniti        speed    1.205793"
            ]
          },
          "metadata": {
            "tags": []
          },
          "execution_count": 52
        }
      ]
    },
    {
      "cell_type": "markdown",
      "metadata": {
        "id": "64HB-dWZmuox"
      },
      "source": [
        "#TASK C: Find the most Aspirational Brand"
      ]
    },
    {
      "cell_type": "markdown",
      "metadata": {
        "id": "7Y0u50ULVwRI"
      },
      "source": [
        "We went and found different phrases that indicate aspiration and replaced those phrases with the word \"aspirational\". Then we counted the frequency where the word \"aspirational\" appears with the brand and then found the lift ratios for the brand and aspirational count."
      ]
    },
    {
      "cell_type": "code",
      "metadata": {
        "id": "5RFbxL0-p9V-",
        "outputId": "c274893c-a2b5-486b-d8f3-d883f89f409b",
        "colab": {
          "base_uri": "https://localhost:8080/",
          "height": 0
        }
      },
      "source": [
        "phrases_df= pd.read_csv('aspirational_phrases.csv',header=None)\n",
        "phrases_df"
      ],
      "execution_count": 53,
      "outputs": [
        {
          "output_type": "execute_result",
          "data": {
            "text/html": [
              "<div>\n",
              "<style scoped>\n",
              "    .dataframe tbody tr th:only-of-type {\n",
              "        vertical-align: middle;\n",
              "    }\n",
              "\n",
              "    .dataframe tbody tr th {\n",
              "        vertical-align: top;\n",
              "    }\n",
              "\n",
              "    .dataframe thead th {\n",
              "        text-align: right;\n",
              "    }\n",
              "</style>\n",
              "<table border=\"1\" class=\"dataframe\">\n",
              "  <thead>\n",
              "    <tr style=\"text-align: right;\">\n",
              "      <th></th>\n",
              "      <th>0</th>\n",
              "      <th>1</th>\n",
              "    </tr>\n",
              "  </thead>\n",
              "  <tbody>\n",
              "    <tr>\n",
              "      <th>0</th>\n",
              "      <td>be great if I owned</td>\n",
              "      <td>aspirational</td>\n",
              "    </tr>\n",
              "    <tr>\n",
              "      <th>1</th>\n",
              "      <td>be great if I had</td>\n",
              "      <td>aspirational</td>\n",
              "    </tr>\n",
              "    <tr>\n",
              "      <th>2</th>\n",
              "      <td>wish to buy</td>\n",
              "      <td>aspirational</td>\n",
              "    </tr>\n",
              "    <tr>\n",
              "      <th>3</th>\n",
              "      <td>wish to own</td>\n",
              "      <td>aspirational</td>\n",
              "    </tr>\n",
              "    <tr>\n",
              "      <th>4</th>\n",
              "      <td>love to have</td>\n",
              "      <td>aspirational</td>\n",
              "    </tr>\n",
              "    <tr>\n",
              "      <th>5</th>\n",
              "      <td>love to buy</td>\n",
              "      <td>aspirational</td>\n",
              "    </tr>\n",
              "    <tr>\n",
              "      <th>6</th>\n",
              "      <td>If I had the money</td>\n",
              "      <td>aspirational</td>\n",
              "    </tr>\n",
              "    <tr>\n",
              "      <th>7</th>\n",
              "      <td>dream is to buy</td>\n",
              "      <td>aspirational</td>\n",
              "    </tr>\n",
              "    <tr>\n",
              "      <th>8</th>\n",
              "      <td>dream is to purchase</td>\n",
              "      <td>aspirational</td>\n",
              "    </tr>\n",
              "    <tr>\n",
              "      <th>9</th>\n",
              "      <td>dream is to own</td>\n",
              "      <td>aspirational</td>\n",
              "    </tr>\n",
              "    <tr>\n",
              "      <th>10</th>\n",
              "      <td>had all the money in the world</td>\n",
              "      <td>aspirational</td>\n",
              "    </tr>\n",
              "    <tr>\n",
              "      <th>11</th>\n",
              "      <td>is my dream</td>\n",
              "      <td>aspirational</td>\n",
              "    </tr>\n",
              "    <tr>\n",
              "      <th>12</th>\n",
              "      <td>want to get</td>\n",
              "      <td>aspirational</td>\n",
              "    </tr>\n",
              "    <tr>\n",
              "      <th>13</th>\n",
              "      <td>want to drive</td>\n",
              "      <td>aspirational</td>\n",
              "    </tr>\n",
              "    <tr>\n",
              "      <th>14</th>\n",
              "      <td>love to get</td>\n",
              "      <td>aspirational</td>\n",
              "    </tr>\n",
              "    <tr>\n",
              "      <th>15</th>\n",
              "      <td>love to drive</td>\n",
              "      <td>aspirational</td>\n",
              "    </tr>\n",
              "    <tr>\n",
              "      <th>16</th>\n",
              "      <td>wish to get</td>\n",
              "      <td>aspirational</td>\n",
              "    </tr>\n",
              "    <tr>\n",
              "      <th>17</th>\n",
              "      <td>wish to drive</td>\n",
              "      <td>aspirational</td>\n",
              "    </tr>\n",
              "    <tr>\n",
              "      <th>18</th>\n",
              "      <td>be great to get</td>\n",
              "      <td>aspirational</td>\n",
              "    </tr>\n",
              "    <tr>\n",
              "      <th>19</th>\n",
              "      <td>be great to drive</td>\n",
              "      <td>aspirational</td>\n",
              "    </tr>\n",
              "  </tbody>\n",
              "</table>\n",
              "</div>"
            ],
            "text/plain": [
              "                                 0             1\n",
              "0              be great if I owned  aspirational\n",
              "1                be great if I had  aspirational\n",
              "2                      wish to buy  aspirational\n",
              "3                      wish to own  aspirational\n",
              "4                     love to have  aspirational\n",
              "5                      love to buy  aspirational\n",
              "6               If I had the money  aspirational\n",
              "7                  dream is to buy  aspirational\n",
              "8             dream is to purchase  aspirational\n",
              "9                  dream is to own  aspirational\n",
              "10  had all the money in the world  aspirational\n",
              "11                     is my dream  aspirational\n",
              "12                     want to get  aspirational\n",
              "13                   want to drive  aspirational\n",
              "14                     love to get  aspirational\n",
              "15                   love to drive  aspirational\n",
              "16                     wish to get  aspirational\n",
              "17                   wish to drive  aspirational\n",
              "18                 be great to get  aspirational\n",
              "19               be great to drive  aspirational"
            ]
          },
          "metadata": {
            "tags": []
          },
          "execution_count": 53
        }
      ]
    },
    {
      "cell_type": "code",
      "metadata": {
        "id": "j9ec4GOznIzn"
      },
      "source": [
        "# Replacing all the phrases with the word 'aspirational'\n",
        "aspirational_df = comments.copy()\n",
        "for i in range((phrases_df.shape[0])):\n",
        "  replacee=phrases_df.loc[i,0].lower()\n",
        "  replacedby=phrases_df.loc[i,1].lower()\n",
        "  aspirational_df[\"comments\"]= aspirational_df[\"comments\"].str.replace(replacee, replacedby, case = False)"
      ],
      "execution_count": 54,
      "outputs": []
    },
    {
      "cell_type": "code",
      "metadata": {
        "id": "3ld6F7fLnPtp"
      },
      "source": [
        "# Looking through all the comments for the word 'aspirational' and the brand names\n",
        "aspirational_count_dict ={}\n",
        "for brand in brands:\n",
        "  for i in range((aspirational_df.shape[0])):\n",
        "    if type(aspirational_df.loc[i,'comments']) == str: \n",
        "      user_comment=aspirational_df.loc[i,'comments'].lower()\n",
        "      if ((brand.lower() in user_comment) and ('aspirational' in user_comment)):\n",
        "        if brand not in aspirational_count_dict:\n",
        "          aspirational_count_dict[brand] = 1\n",
        "        else:\n",
        "          aspirational_count_dict[brand] += 1"
      ],
      "execution_count": 55,
      "outputs": []
    },
    {
      "cell_type": "code",
      "metadata": {
        "id": "FYVbBkjTnSHa",
        "outputId": "b0906332-3857-4bbd-91b9-64129d7bb2ce",
        "colab": {
          "base_uri": "https://localhost:8080/",
          "height": 0
        }
      },
      "source": [
        "# Making the dictionary into a dataframe\n",
        "aspirational_count_df = pd.DataFrame.from_dict(aspirational_count_dict, orient='index', columns=['Frequency'])\n",
        "aspirational_count_df.sort_values(by=['Frequency'], ascending=False).head(10)"
      ],
      "execution_count": 56,
      "outputs": [
        {
          "output_type": "execute_result",
          "data": {
            "text/html": [
              "<div>\n",
              "<style scoped>\n",
              "    .dataframe tbody tr th:only-of-type {\n",
              "        vertical-align: middle;\n",
              "    }\n",
              "\n",
              "    .dataframe tbody tr th {\n",
              "        vertical-align: top;\n",
              "    }\n",
              "\n",
              "    .dataframe thead th {\n",
              "        text-align: right;\n",
              "    }\n",
              "</style>\n",
              "<table border=\"1\" class=\"dataframe\">\n",
              "  <thead>\n",
              "    <tr style=\"text-align: right;\">\n",
              "      <th></th>\n",
              "      <th>Frequency</th>\n",
              "    </tr>\n",
              "  </thead>\n",
              "  <tbody>\n",
              "    <tr>\n",
              "      <th>bmw</th>\n",
              "      <td>13</td>\n",
              "    </tr>\n",
              "    <tr>\n",
              "      <th>lexus</th>\n",
              "      <td>6</td>\n",
              "    </tr>\n",
              "    <tr>\n",
              "      <th>acura</th>\n",
              "      <td>5</td>\n",
              "    </tr>\n",
              "    <tr>\n",
              "      <th>audi</th>\n",
              "      <td>4</td>\n",
              "    </tr>\n",
              "    <tr>\n",
              "      <th>ford</th>\n",
              "      <td>4</td>\n",
              "    </tr>\n",
              "    <tr>\n",
              "      <th>infiniti</th>\n",
              "      <td>4</td>\n",
              "    </tr>\n",
              "    <tr>\n",
              "      <th>lincoln</th>\n",
              "      <td>2</td>\n",
              "    </tr>\n",
              "    <tr>\n",
              "      <th>cadillac</th>\n",
              "      <td>1</td>\n",
              "    </tr>\n",
              "    <tr>\n",
              "      <th>chrysler</th>\n",
              "      <td>1</td>\n",
              "    </tr>\n",
              "    <tr>\n",
              "      <th>honda</th>\n",
              "      <td>1</td>\n",
              "    </tr>\n",
              "  </tbody>\n",
              "</table>\n",
              "</div>"
            ],
            "text/plain": [
              "          Frequency\n",
              "bmw              13\n",
              "lexus             6\n",
              "acura             5\n",
              "audi              4\n",
              "ford              4\n",
              "infiniti          4\n",
              "lincoln           2\n",
              "cadillac          1\n",
              "chrysler          1\n",
              "honda             1"
            ]
          },
          "metadata": {
            "tags": []
          },
          "execution_count": 56
        }
      ]
    },
    {
      "cell_type": "code",
      "metadata": {
        "id": "NSCCGYL_nUrS"
      },
      "source": [
        "aspirational_count_df.to_csv(\"aspirational_count.csv\")"
      ],
      "execution_count": 57,
      "outputs": []
    },
    {
      "cell_type": "code",
      "metadata": {
        "id": "Mhvys2_NSqQG"
      },
      "source": [
        "# Finding the lift ratio for each pair\n",
        "samples = comments.shape[0]\n",
        "aspirational_lift_ratio_df = pd.DataFrame(columns = ['Brand','Lift Ratio']) \n",
        "aspirational_lift_ratio_list = []\n",
        "for index, row in aspirational_count_df.iterrows():\n",
        "  pair_freq = aspirational_count_df.loc[index,'Frequency']\n",
        "  A_freq = replaced_count_df.loc[index].to_numpy()[0]\n",
        "  B_freq = aspirational_count_df.sort_values(by=['Frequency'], ascending=False).sum().to_numpy()[0]\n",
        "  aspirational_lift_ratio = (samples*pair_freq)/(A_freq*B_freq)\n",
        "  aspirational_lift_ratio_df.loc[len(aspirational_lift_ratio_df)] = [index,aspirational_lift_ratio]\n",
        "  aspirational_lift_ratio_list.append(aspirational_lift_ratio)"
      ],
      "execution_count": 58,
      "outputs": []
    },
    {
      "cell_type": "code",
      "metadata": {
        "id": "E-qyvYBcUlmB",
        "outputId": "44527fc7-76e6-49ae-d0cd-2d92ecdbb89a",
        "colab": {
          "base_uri": "https://localhost:8080/",
          "height": 0
        }
      },
      "source": [
        "aspirational_lift_ratio_df.sort_values(by=['Lift Ratio'], ascending=False)"
      ],
      "execution_count": 59,
      "outputs": [
        {
          "output_type": "execute_result",
          "data": {
            "text/html": [
              "<div>\n",
              "<style scoped>\n",
              "    .dataframe tbody tr th:only-of-type {\n",
              "        vertical-align: middle;\n",
              "    }\n",
              "\n",
              "    .dataframe tbody tr th {\n",
              "        vertical-align: top;\n",
              "    }\n",
              "\n",
              "    .dataframe thead th {\n",
              "        text-align: right;\n",
              "    }\n",
              "</style>\n",
              "<table border=\"1\" class=\"dataframe\">\n",
              "  <thead>\n",
              "    <tr style=\"text-align: right;\">\n",
              "      <th></th>\n",
              "      <th>Brand</th>\n",
              "      <th>Lift Ratio</th>\n",
              "    </tr>\n",
              "  </thead>\n",
              "  <tbody>\n",
              "    <tr>\n",
              "      <th>9</th>\n",
              "      <td>lincoln</td>\n",
              "      <td>3.731343</td>\n",
              "    </tr>\n",
              "    <tr>\n",
              "      <th>10</th>\n",
              "      <td>pontiac</td>\n",
              "      <td>2.049180</td>\n",
              "    </tr>\n",
              "    <tr>\n",
              "      <th>5</th>\n",
              "      <td>ford</td>\n",
              "      <td>1.886792</td>\n",
              "    </tr>\n",
              "    <tr>\n",
              "      <th>12</th>\n",
              "      <td>lexus</td>\n",
              "      <td>1.612903</td>\n",
              "    </tr>\n",
              "    <tr>\n",
              "      <th>4</th>\n",
              "      <td>chrysler</td>\n",
              "      <td>1.453488</td>\n",
              "    </tr>\n",
              "    <tr>\n",
              "      <th>8</th>\n",
              "      <td>infiniti</td>\n",
              "      <td>1.048218</td>\n",
              "    </tr>\n",
              "    <tr>\n",
              "      <th>3</th>\n",
              "      <td>cadillac</td>\n",
              "      <td>1.016260</td>\n",
              "    </tr>\n",
              "    <tr>\n",
              "      <th>2</th>\n",
              "      <td>bmw</td>\n",
              "      <td>0.990854</td>\n",
              "    </tr>\n",
              "    <tr>\n",
              "      <th>0</th>\n",
              "      <td>acura</td>\n",
              "      <td>0.957121</td>\n",
              "    </tr>\n",
              "    <tr>\n",
              "      <th>7</th>\n",
              "      <td>hyundai</td>\n",
              "      <td>0.939850</td>\n",
              "    </tr>\n",
              "    <tr>\n",
              "      <th>1</th>\n",
              "      <td>audi</td>\n",
              "      <td>0.910747</td>\n",
              "    </tr>\n",
              "    <tr>\n",
              "      <th>11</th>\n",
              "      <td>subaru</td>\n",
              "      <td>0.538793</td>\n",
              "    </tr>\n",
              "    <tr>\n",
              "      <th>6</th>\n",
              "      <td>honda</td>\n",
              "      <td>0.259875</td>\n",
              "    </tr>\n",
              "  </tbody>\n",
              "</table>\n",
              "</div>"
            ],
            "text/plain": [
              "       Brand  Lift Ratio\n",
              "9    lincoln    3.731343\n",
              "10   pontiac    2.049180\n",
              "5       ford    1.886792\n",
              "12     lexus    1.612903\n",
              "4   chrysler    1.453488\n",
              "8   infiniti    1.048218\n",
              "3   cadillac    1.016260\n",
              "2        bmw    0.990854\n",
              "0      acura    0.957121\n",
              "7    hyundai    0.939850\n",
              "1       audi    0.910747\n",
              "11    subaru    0.538793\n",
              "6      honda    0.259875"
            ]
          },
          "metadata": {
            "tags": []
          },
          "execution_count": 59
        }
      ]
    },
    {
      "cell_type": "markdown",
      "metadata": {
        "id": "hFqerd-4__SE"
      },
      "source": [
        "## Aspirational Brand Analysis\n",
        "\n",
        "Based off the lift ratio & aspirational phrase frequency count analysis, we could see that Lincoln is the most aspirational brand. Although it was in the middle of the pack for the frequency of aspirational phrases mentioned with the brand, Lincoln, it had the best lift ratio, meaning the times it was mention with the word \"aspirational\" was more than any other brand. Lincoln's busines implications is that they should promote the brand more as an entry-level luxury car so that the people who mentioned Lincoln as a want or need could feel inspired to take action on such sentiments. This will promote more people within the market to discuss the brand more and generate more sales."
      ]
    }
  ]
}